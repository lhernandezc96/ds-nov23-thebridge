{
 "cells": [
  {
   "cell_type": "markdown",
   "metadata": {},
   "source": [
    "# Entrega Ramp Up\n"
   ]
  },
  {
   "cell_type": "code",
   "execution_count": null,
   "metadata": {},
   "outputs": [],
   "source": [
    "\"\"\"\n",
    "Criterios de corrección:\n",
    "\n",
    "ejecución (ausencia de errores y obtención de resultados)\n",
    "estructura del código\n",
    "uso correcto de variables\n",
    "manejo de tipo de variables\n",
    "asignaciones\n",
    "operaciones booleanas\n",
    "manejo lógico de flujos de control y bucles\n",
    "uso de colecciones\n",
    "uso de funciones\n",
    "\"\"\";\n",
    "\n",
    "# Si no consigues los resultados, muestra los intentos\n",
    "\n",
    "# Ejemplo de como queremos ver el código para más de un intento:\n",
    "\n",
    "# intento 1\n",
    "#your code\n",
    "\n",
    "# intento 2\n",
    "#your code\n"
   ]
  },
  {
   "cell_type": "markdown",
   "metadata": {},
   "source": [
    "## Ejercicio 1\n",
    "#### Crear un programa que calcule el promedio de una serie de números.\n",
    "\n",
    "El programa pedirá al usuario que introduzca numeros. En primer lugar le pedirá que indique cuantos números se quieren introducir, y enseñará un prompt para introducirlos (usando el método input), y calculará el promedio.\n"
   ]
  },
  {
   "cell_type": "code",
   "execution_count": 1,
   "metadata": {},
   "outputs": [
    {
     "name": "stdout",
     "output_type": "stream",
     "text": [
      "\n",
      "The average of the numbers is 2.0\n"
     ]
    }
   ],
   "source": [
    "n = int(input(\"How many numbers do you have? \"))\n",
    "\n",
    "total = 0.0\n",
    "for i in range(n):\n",
    "    x = float(input(\"Enter a number >> \"))\n",
    "    total = total + x\n",
    "\n",
    "print(\"\\nThe average of the numbers is\", total / n)\n",
    "\n"
   ]
  },
  {
   "cell_type": "markdown",
   "metadata": {},
   "source": [
    "## Ejercicio 2\n",
    "\n",
    "\n",
    "#### Escribe un programa en Python para convertir una lista de caracteres en un string.\n",
    "\n",
    "Lista de ejemplo : ['a','b','c','d']\n",
    "\n",
    "Salida esperada : abcd\n"
   ]
  },
  {
   "cell_type": "code",
   "execution_count": 2,
   "metadata": {},
   "outputs": [
    {
     "data": {
      "text/plain": [
       "'abcd'"
      ]
     },
     "execution_count": 2,
     "metadata": {},
     "output_type": "execute_result"
    }
   ],
   "source": [
    "\"\".join([\"a\",\"b\",\"c\",\"d\"])"
   ]
  },
  {
   "cell_type": "markdown",
   "metadata": {},
   "source": [
    "## Ejercicio 3\n",
    "\n",
    "#### Primeros y últimos 5 elementos\n",
    "Escribe un programa en Python que genere e imprima una lista que contenga los primeros y últimos 5 valores de los cuadrados de todos los números entre 1 y 30 (ambos inclusive). \n"
   ]
  },
  {
   "cell_type": "code",
   "execution_count": 8,
   "metadata": {},
   "outputs": [
    {
     "data": {
      "text/plain": [
       "[1, 4, 9, 16, 25, 900, 841, 784, 729, 676, 625]"
      ]
     },
     "execution_count": 8,
     "metadata": {},
     "output_type": "execute_result"
    }
   ],
   "source": [
    "list(map(lambda x: x**2, range(1,6))) + list(map(lambda x: x**2, range(30,24,-1)))\n"
   ]
  },
  {
   "cell_type": "markdown",
   "metadata": {},
   "source": [
    "## Ejercicio 4\n",
    "#### Interactuando con listas\n",
    "\n",
    "\n",
    "Respecto de la lista de gadgets [\"Móvil\", \"Portátil\", 100, \"Cámara\", 310,28, \"Altavoces\", 27,00,\n",
    "\"Televisión\", 1000, \"Maletín para portátil\", \"Lente de cámara\"], completa las siguientes acciones:\n",
    "\n",
    "a)Crea listas separadas de string y números.  \n",
    "\n",
    "b)Ordena la lista de strings en orden ascendente  \n",
    "\n",
    "c)Ordena la lista de strings en orden descendente  \n",
    "\n",
    "d)Ordena la lista de números de menor a mayor  \n",
    "\n",
    "e)Ordena la lista de números de mayor a menor\n",
    "\n"
   ]
  },
  {
   "cell_type": "code",
   "execution_count": 20,
   "metadata": {},
   "outputs": [
    {
     "name": "stdout",
     "output_type": "stream",
     "text": [
      "[100, 310, 28, 27, 0, 1000] ['Móvil', 'Portátil', 'Cámara', 'Altavoces', 'Televisión', 'Maletín para portátil', 'Lente de cámara']\n",
      "['Altavoces', 'Cámara', 'Lente de cámara', 'Maletín para portátil', 'Móvil', 'Portátil', 'Televisión']\n",
      "[0, 27, 28, 100, 310, 1000]\n",
      "[1000, 310, 100, 28, 27, 0]\n"
     ]
    }
   ],
   "source": [
    "gadgets = [\"Móvil\", \"Portátil\", 100, \"Cámara\", 310,28, \"Altavoces\", 27,00,\n",
    "\"Televisión\", 1000, \"Maletín para portátil\", \"Lente de cámara\"]\n",
    "gadgets_int = []\n",
    "gadgets_str = []\n",
    "for gadget in gadgets:\n",
    "    if isinstance(gadget, int):\n",
    "        gadgets_int.append(gadget)\n",
    "    else:\n",
    "        gadgets_str.append(gadget)\n",
    "print(gadgets_int,gadgets_str)\n",
    "gadgets_str.sort()\n",
    "print(gadgets_str)\n",
    "gadgets_str.sort(reverse=True)\n",
    "print(sorted(gadgets_int))\n",
    "print(sorted(gadgets_int, reverse=True))\n"
   ]
  },
  {
   "cell_type": "markdown",
   "metadata": {},
   "source": [
    "## Ejercicio 5\n",
    "#### Trabajando con listas anidadas\n",
    "\n",
    "Disponemos de una lista con información sobre varios empleados:\n",
    "\n",
    "    empleados = [[\"Juan Rodríguez\", 53, [\"Director financiero\"]],[\"Laura Pérez\", 41, [\"CEO\", \"Director\", \"Gerente\"]],[\"Pedro Álvarez\", 26, [\"Asistente\",\"Gestor comercial\"]]]\n",
    "\n",
    "Respecto de cada empleado, la lista contiene tres elementos: en el primero almacenamos su nombre, en el segundo su edad y en el tercero los puestos que ha desempeñado en la empresa (en forma de lista).\n",
    "\n",
    "1. Siguiendo la misma estructura, incluye un nuevo empleado en la última posición de la lista empleados.\n",
    "\n",
    "2. Mostrar por pantalla, sin uso de funciones (salvo print) ni bucles: \n",
    "\n",
    "    - El nombre y la edad del tercer empleado de la lista empleados.\n",
    "    - Los puestos desempeñados por Laura Pérez, ordenados de atras a adelante (es decir, de gerente a CEO)\n",
    "    - Si el nuevo empleado que has añadido tiene más de 30 años, muestra por pantalla los puestos que el nuevo empleado haya desempeñado en la empresa. En caso contrario, muestra los puestos desempeñados por Laura Pérez y Juan Rodriguez."
   ]
  },
  {
   "cell_type": "code",
   "execution_count": 22,
   "metadata": {},
   "outputs": [
    {
     "name": "stdout",
     "output_type": "stream",
     "text": [
      "El tercer empleado se llama Pedro Álvarez y tiene 26 años\n",
      "['Gerente', 'Director', 'CEO']\n",
      "Los puestos desempeñados por el nuevo empleado: ['Marketing', 'Director']\n"
     ]
    }
   ],
   "source": [
    "empleados = [[12345, \"Juan Rodríguez\", 53, [\"Director financiero\"], 2],[56789, \"Laura Pérez\", 41, [\"CEO\", \"Director\", \"Gerente\"], 2],[88354, \"Pedro Álvarez\", 26, [\"Asistente\",\"Gestor comercial\"], 3]]\n",
    "empleados.append([28654, \"Pedro Alonso\", 41, [\"Marketing\", \"Director\"],4])\n",
    "print(\"El tercer empleado se llama\", empleados[2][1], \"y tiene\", empleados[2][2], \"años\")\n",
    "print(empleados[1][3][::-1])\n",
    "if empleados[-1][2] > 30:\n",
    "    print(\"Los puestos desempeñados por el nuevo empleado:\",empleados[-1][3])\n",
    "else:\n",
    "    print(\"Los puestos desempeñados por Laura Perez:\", empleados[1][3])\n",
    "    print(\"Los puestos desempeñados por Juan Rodriguez:\", empleados[0][3])"
   ]
  },
  {
   "cell_type": "markdown",
   "metadata": {},
   "source": [
    "## Ejercicio 6\n",
    "\n",
    "#### Obtenga la primera y la segunda mejor puntuación de la lista.\n",
    "\n",
    "La lista puede contener duplicados.\n",
    "\n",
    "Ej: [86,86,85,85,85,83,23,45,84,1,2,0] => debería obtener, por este orden: 86, 85"
   ]
  },
  {
   "cell_type": "code",
   "execution_count": 1,
   "metadata": {},
   "outputs": [
    {
     "name": "stdout",
     "output_type": "stream",
     "text": [
      "[120, 86]\n"
     ]
    }
   ],
   "source": [
    "ejemplo = [86,86,85,85,85,83,23,45,84,120]\n",
    "def dos_n_mas_altos (lista):\n",
    "    set_num = set(lista)\n",
    "    solucion = []\n",
    "    n_max = max(set_num)\n",
    "    solucion.append(n_max)\n",
    "    set_num.remove(n_max)\n",
    "    n_max = max(set_num)\n",
    "    solucion.append(n_max)\n",
    "    return solucion\n",
    "print(dos_n_mas_altos(ejemplo))"
   ]
  },
  {
   "cell_type": "markdown",
   "metadata": {},
   "source": [
    "## Ejercicio 7\n",
    "\n",
    "#### Escriba un programa que detecte si una string es un palíndromo\n",
    "\n",
    "Pedir al usuario una string e imprimir si esta string es un palíndromo o no. (Un palíndromo es un string que se lee igual hacia adelante y hacia atrás)."
   ]
  },
  {
   "cell_type": "code",
   "execution_count": 31,
   "metadata": {},
   "outputs": [
    {
     "name": "stdout",
     "output_type": "stream",
     "text": [
      "Introduce una palabra para ver si es palindromo\n",
      "La palabra php es un palindromo\n"
     ]
    }
   ],
   "source": [
    "print(\"Introduce una palabra para ver si es palindromo\")\n",
    "palabra = input()\n",
    "if palabra == palabra[::-1]:\n",
    "    print (\"La palabra\",palabra,\"si es un palindromo\")\n",
    "else:\n",
    "    print (\"La palabra\",palabra,\"no es un palindromo\")"
   ]
  },
  {
   "cell_type": "markdown",
   "metadata": {},
   "source": [
    "## Ejercicio 8\n",
    "#### Crear un programa que calcule la cuota de una hipoteca\n",
    "\n",
    "Las cuotas hipotecarias se calculan utilizando la fórmula del interés frances. El objetivo del ejercicio es crear un programa que solicite al usuario los datos de su hipoteca (cantidad, intereses, y plazo en años) y le devuelva la cuota mensual a pagar\n",
    "\n",
    "La formula del interés frances es la siguiente:\n",
    "\\begin{align*}\n",
    "C=V \\frac{(1+i)^n i}{(1+i)^n -1}\n",
    "\\end{align*}\n",
    "\n",
    "\n",
    "    C = Cuota a pagar\n",
    "    V = Cantidad del préstamo hipotecario\n",
    "    i = tipo de interés del período (tipo de interes de la hipoteca por mes)\n",
    "    n = número de cuotas (en meses)\n",
    "\n",
    "V = 300.000\n",
    "\n",
    "i = 2 %\n",
    "\n",
    "n = 20*12\n",
    "\n",
    "output: 1517"
   ]
  },
  {
   "cell_type": "code",
   "execution_count": 46,
   "metadata": {},
   "outputs": [
    {
     "data": {
      "text/plain": [
       "6052.224441256251"
      ]
     },
     "execution_count": 46,
     "metadata": {},
     "output_type": "execute_result"
    }
   ],
   "source": [
    "def cuota_mensual ():\n",
    "    V = 300000 #int(input(\"Cantidad del prestamo hipotecario: \"))\n",
    "    i = 0.02 #int(input(\"Tipo de interes: \")) * 0.01\n",
    "    n = 240 #int(input(\"nº de cuotas: \"))\n",
    "    return V*(((1+i)**n)*(i)/(((1+i)**n)-1))\n",
    "cuota_mensual()"
   ]
  },
  {
   "cell_type": "markdown",
   "metadata": {},
   "source": [
    "## Ejercicio 9\n",
    "#### Crear un programa que calcule el plan de amortización\n",
    "\n",
    "El objetivo del ejercicio es crear un programa que solicite al usuario los datos de su hipoteca (cantidad, intereses, y plazo en años) y le devuelva el plan de amortización.\n",
    "\n",
    "En cada cuota se pagan intereses por el capital restante, y se devuelve capital hasta la cuota mensual. El capital restante ha de ser actualizado restandole el capital devuelto.\n",
    "\n",
    "Salida ejemplo:\n",
    "\n",
    "mes  cuota  intereses  principal  pendiente   \n",
    "\n",
    "0  758.89   450.00   308.89   179691.11 \n",
    "\n",
    "**NOTA**: Tienes que partir de tipo de interes por periodo calculado en el apartado anterior, y del total de la hipoteca. Para cada mes calcular:\n",
    "\n",
    "1. cuota (apartado anterior)\n",
    "2. intereses a pagar del mes (lo que quede por pagar * interes por periodo del apartado anterior)\n",
    "3. principal (cuota - interes)\n",
    "4. pendiente (lo que quede por pagar - principal)"
   ]
  },
  {
   "cell_type": "code",
   "execution_count": null,
   "metadata": {},
   "outputs": [],
   "source": [
    "# por ejemplo con 50000 de hipoteca\n",
    "'''\n",
    "mes  cuota  intereses  principal  pendiente\n",
    "0  990.06   291.67   698.39   49301.61 \n",
    "1  990.06   287.59   702.47   48599.14 \n",
    "2  990.06   283.49   706.56   47892.57 \n",
    "3  990.06   279.37   710.69   47181.89 \n",
    "4  990.06   275.23   714.83   46467.06 \n",
    "5  990.06   271.06   719.00   45748.05 \n",
    "6  990.06   266.86   723.20   45024.86 \n",
    "7  990.06   262.65   727.41   44297.44 \n",
    "8  990.06   258.40   731.66   43565.78 \n",
    "9  990.06   254.13   735.93   42829.86 \n",
    "10  990.06   249.84   740.22   42089.64\n",
    "'''"
   ]
  },
  {
   "cell_type": "markdown",
   "metadata": {},
   "source": [
    "## Ejercicio 10\n",
    "#### Crear un programa que resuelva una ecuación de segundo grado \n",
    "\n",
    "El objetivo del programa es resolver la ecuación de segundo grado \n",
    "\n",
    "\\begin{align*}\n",
    "ax^2+bx+c = 0\n",
    "\\end{align*}\n",
    "\n",
    "Pasando como parámetros los coeficientes de la ecuación. La resolución de la ecuación es la siguiente:\n",
    "\n",
    "\\begin{align*}\n",
    "x=\\frac{-b \\pm \\sqrt{b^2-4ac}}{2a}\n",
    "\\end{align*}\n",
    "\n",
    "Para realizar este programa tienes que utilizar el metodo sqrt() para calcular la raiz cuadrada. Para ello tienes que importar el módulo math. Así que tu programa debería empezar con ```ìmport math```"
   ]
  },
  {
   "cell_type": "code",
   "execution_count": 50,
   "metadata": {},
   "outputs": [
    {
     "data": {
      "text/plain": [
       "[-1.5, 1.0]"
      ]
     },
     "execution_count": 50,
     "metadata": {},
     "output_type": "execute_result"
    }
   ],
   "source": [
    "import math\n",
    "def ecuacion (a,b,c):\n",
    "    solucion = []\n",
    "    solucion.append((-b+(b**2-4*a*c)**0.5)/(2*a))\n",
    "    solucion.append((-b-(b**2-4*a*c)**0.5)/(2*a))\n",
    "    return solucion\n",
    "ecuacion(-2,-1,3)"
   ]
  },
  {
   "cell_type": "markdown",
   "metadata": {},
   "source": [
    "## (Bonus) Ejercicio 11\n",
    "#### Desarrolla el juego del ahorcado\n",
    "El juego del ahorcado consiste en adivinar una palabra, probando letra a letra. El jugador tiene permitidos 6 fallos, al 7mo fallo pierde. \n",
    "\n",
    "* Habrá que imprimir por pantalla una cantidad de guiones igual al numero de letras e ir sustituyéndolos con los aciertos.\n",
    "* Necesitarás usar un bucle while con un input para modelar las jugadas del ahoracado. En cada ejecución del while comprueba las vidas del jugador, y los aciertos."
   ]
  },
  {
   "cell_type": "code",
   "execution_count": 1,
   "metadata": {},
   "outputs": [
    {
     "name": "stdout",
     "output_type": "stream",
     "text": [
      "Adivina la siguiente palabra\n",
      " _ _ _ _ _ _\n",
      "La letra si esta en la palabra, la palabra oculta queda de la siguiente forma\n",
      "_ _ d _ _ _\n",
      "Has fallado, pierdes una vida, te quedan: 6\n",
      "la palabra oculta queda de la siguiente forma\n",
      "_ _ d _ _ _\n",
      "La letra si esta en la palabra, la palabra oculta queda de la siguiente forma\n",
      "s _ d _ _ _\n",
      "La letra si esta en la palabra, la palabra oculta queda de la siguiente forma\n",
      "s u d _ _ u\n",
      "La letra si esta en la palabra, la palabra oculta queda de la siguiente forma\n",
      "s u d o _ u\n",
      "!Has ganado!, la palabra era: sudoku\n"
     ]
    }
   ],
   "source": [
    "palabra=\"sudoku\"\n",
    "palabra_list = list(palabra)\n",
    "huecos = []\n",
    "i=0\n",
    "while i < len(palabra):\n",
    "    huecos.append(\"_\")\n",
    "    i+=1\n",
    "vidas = 7\n",
    "print (\"Adivina la siguiente palabra\\n\",\" \".join(huecos))\n",
    "while vidas > 0:\n",
    "    guess = (input(\"Introduzca una letra: \"))\n",
    "    if guess == palabra:\n",
    "        print (\"!Has ganado!, la palabra era:\",palabra)\n",
    "        break\n",
    "    elif guess in palabra_list:\n",
    "        j=0\n",
    "        while j < len(palabra_list):\n",
    "            if palabra_list[j] == guess:\n",
    "                huecos[j] = palabra_list[j]\n",
    "            j +=1\n",
    "        print (\"La letra si esta en la palabra, la palabra oculta queda de la siguiente forma\\n\",\" \".join(huecos),sep=\"\")\n",
    "    else:\n",
    "        vidas -= 1\n",
    "        print (\"Has fallado, pierdes una vida, te quedan: \", vidas, \"\\nla palabra oculta queda de la siguiente forma\\n\",\" \".join(huecos),sep=\"\")\n",
    "        \n",
    "\n",
    "else:\n",
    "    print(\"Has perdido, te has quedado sin vidas\")\n"
   ]
  },
  {
   "cell_type": "code",
   "execution_count": null,
   "metadata": {},
   "outputs": [],
   "source": []
  }
 ],
 "metadata": {
  "kernelspec": {
   "display_name": "Python 3 (ipykernel)",
   "language": "python",
   "name": "python3"
  },
  "language_info": {
   "codemirror_mode": {
    "name": "ipython",
    "version": 3
   },
   "file_extension": ".py",
   "mimetype": "text/x-python",
   "name": "python",
   "nbconvert_exporter": "python",
   "pygments_lexer": "ipython3",
   "version": "3.11.3"
  },
  "vscode": {
   "interpreter": {
    "hash": "252189e587d1e2aeba4a06e91fa71896c7a7f6e22e918b9407c7cde4ef2d5985"
   }
  }
 },
 "nbformat": 4,
 "nbformat_minor": 4
}
