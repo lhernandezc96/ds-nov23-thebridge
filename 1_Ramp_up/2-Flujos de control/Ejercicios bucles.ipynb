{
 "cells": [
  {
   "cell_type": "markdown",
   "metadata": {},
   "source": [
    "![imagen](./img/ejercicios.png)"
   ]
  },
  {
   "cell_type": "markdown",
   "metadata": {},
   "source": [
    "## Ejercicio 1\n",
    "1. Elimina todos los VW de la siguiente lista. Crea una lista nueva para ello.\n",
    "2. Hazlo de otra manera. Crea una lista nueva, y ve añadiendo todos los que no sean VW\n",
    "3. En vez de `for`, usa un bucle `while`\n",
    "> ejer_1 = [\"VW\", \"Audi\", \"Renault\", \"VW\", \"BMW\"]"
   ]
  },
  {
   "cell_type": "code",
   "execution_count": 13,
   "metadata": {},
   "outputs": [
    {
     "data": {
      "text/plain": [
       "['Audi', 'Renault', 'BMW']"
      ]
     },
     "execution_count": 13,
     "metadata": {},
     "output_type": "execute_result"
    }
   ],
   "source": [
    "#Primero sin bucles\n",
    "ejer_1 = [\"VW\", \"Audi\", \"Renault\", \"VW\", \"BMW\"]\n",
    "\n",
    "\n",
    "ejer_1_1 = ejer_1\n",
    "ejer_1_1.remove(\"VW\")\n",
    "ejer_1_1.remove(\"VW\")\n",
    "ejer_1_1"
   ]
  },
  {
   "cell_type": "code",
   "execution_count": 14,
   "metadata": {},
   "outputs": [
    {
     "data": {
      "text/plain": [
       "['Audi', 'Renault', 'BMW']"
      ]
     },
     "execution_count": 14,
     "metadata": {},
     "output_type": "execute_result"
    }
   ],
   "source": [
    "#Con bucle for\n",
    "ejer_1_2 = ejer_1\n",
    "for coche in ejer_1_2:\n",
    "    if coche == \"VW\":\n",
    "        ejer_1_2.remove(coche)\n",
    "ejer_1_2"
   ]
  },
  {
   "cell_type": "code",
   "execution_count": 27,
   "metadata": {},
   "outputs": [
    {
     "data": {
      "text/plain": [
       "['Audi', 'Renault', 'BMW']"
      ]
     },
     "execution_count": 27,
     "metadata": {},
     "output_type": "execute_result"
    }
   ],
   "source": [
    "#Con bucle while\n",
    "ejer_1_3 = ejer_1\n",
    "i=0\n",
    "while i<len(ejer_1_3):\n",
    "    if ejer_1_3[i] == \"VW\":\n",
    "        ejer_1_3.remove(\"VW\")\n",
    "    i += 1\n",
    "ejer_1_3"
   ]
  },
  {
   "cell_type": "code",
   "execution_count": 26,
   "metadata": {},
   "outputs": [
    {
     "name": "stdout",
     "output_type": "stream",
     "text": [
      "['Audi']\n",
      "['Audi', 'Renault']\n",
      "['Audi', 'Renault', 'BMW']\n"
     ]
    }
   ],
   "source": [
    "#En una nueva lista con while\n",
    "ejer_1_4 = []\n",
    "i=0\n",
    "while i<len(ejer_1):\n",
    "    if ejer_1[i] != \"VW\":\n",
    "        ejer_1_4.append(ejer_1[i])\n",
    "        print (ejer_1_4)\n",
    "    i += 1"
   ]
  },
  {
   "cell_type": "code",
   "execution_count": 25,
   "metadata": {},
   "outputs": [
    {
     "name": "stdout",
     "output_type": "stream",
     "text": [
      "['Audi']\n",
      "['Audi', 'Renault']\n",
      "['Audi', 'Renault', 'BMW']\n"
     ]
    }
   ],
   "source": [
    "#En una nueva lista con for\n",
    "ejer_1_5 = []\n",
    "for coche in ejer_1:\n",
    "    if coche != \"VW\":\n",
    "        ejer_1_5.append(coche)\n",
    "        print (ejer_1_5)\n",
    "        \n"
   ]
  },
  {
   "cell_type": "markdown",
   "metadata": {},
   "source": [
    "## Ejercicio 2\n",
    "Imprime por pantalla la siguiente secuencia: 10, 9, 8.... -8, -9, -10"
   ]
  },
  {
   "cell_type": "code",
   "execution_count": 30,
   "metadata": {},
   "outputs": [
    {
     "name": "stdout",
     "output_type": "stream",
     "text": [
      "10\n",
      "9\n",
      "8\n",
      "7\n",
      "6\n",
      "5\n",
      "4\n",
      "3\n",
      "2\n",
      "1\n",
      "0\n",
      "-1\n",
      "-2\n",
      "-3\n",
      "-4\n",
      "-5\n",
      "-6\n",
      "-7\n",
      "-8\n",
      "-9\n",
      "-10\n"
     ]
    }
   ],
   "source": [
    "i=10\n",
    "while i>=-10:\n",
    "    print(i)\n",
    "    i-=1"
   ]
  },
  {
   "cell_type": "markdown",
   "metadata": {},
   "source": [
    "## Ejercicio 3\n",
    "1. Escribe un programa que vaya pidiendo numeros al usuario. Cuando el usuario introduzca el 0, el programa tiene que imprimir por pantalla el sumatorio de todos los numeros positivos introducidos\n",
    "2. Además de la suma, queremos que imprima también una lista con todos los números."
   ]
  },
  {
   "cell_type": "code",
   "execution_count": 72,
   "metadata": {},
   "outputs": [
    {
     "name": "stdout",
     "output_type": "stream",
     "text": [
      "22.0\n",
      "[4.0, 3.0, 4.0, 2.0, 4.0, 5.0]\n"
     ]
    }
   ],
   "source": [
    "i=float(input(\"Introduce un nº, al introducir el 0 se hara un sumatorio de los numeros introducidos\"))\n",
    "lista = []\n",
    "while i!=0:\n",
    "    if i>0:\n",
    "        lista.append(i)\n",
    "        i=float(input(\"Introduce un nº, al introducir el 0 se hara un sumatorio de los numeros introducidos\"))\n",
    "    else:\n",
    "       i=float(input(\"Introduce un nº, al introducir el 0 se hara un sumatorio de los numeros introducidos\")) \n",
    "print (sum(lista))\n",
    "print (lista)"
   ]
  },
  {
   "cell_type": "markdown",
   "metadata": {},
   "source": [
    "## Ejercicio 4\n",
    "Escribir un programa que vaya pidiendo la cantidad de compras de un cliente. El programa tiene que pedir cantidades hasta que se ingresa un 0. Igualmente cuando una de las cantiaddes introducida es negativa, hay que mandar un mensaje de que \"la cantidad es negativa, por favor introducir numeros positivos\""
   ]
  },
  {
   "cell_type": "code",
   "execution_count": 37,
   "metadata": {},
   "outputs": [
    {
     "name": "stdout",
     "output_type": "stream",
     "text": [
      "El precio total de las compras ha sido de: 236.0 €\n"
     ]
    }
   ],
   "source": [
    "i=float(input(\"Introduce el coste de la compra\"))\n",
    "lista = []\n",
    "while i!=0:\n",
    "    if i<0:\n",
    "        i=float(input(\"la cantidad es negativa, por favor introducir numeros positivos\"))\n",
    "    lista.append(i)\n",
    "    i=float(input(\"Introduce el coste de la compra\"))\n",
    "print (\"El precio total de las compras ha sido de:\",sum(lista), \"€\")\n",
    "\n"
   ]
  },
  {
   "cell_type": "markdown",
   "metadata": {},
   "source": [
    "## Ejercicio 5\n",
    "Imprime por pantalla la palabra \"Python\", pero empezando con la última letra."
   ]
  },
  {
   "cell_type": "code",
   "execution_count": 39,
   "metadata": {},
   "outputs": [
    {
     "name": "stdout",
     "output_type": "stream",
     "text": [
      "n\n",
      "o\n",
      "h\n",
      "t\n",
      "y\n",
      "P\n"
     ]
    }
   ],
   "source": [
    "palabra = \"Python\"\n",
    "list(palabra)\n",
    "i=-1\n",
    "while i>= -len(palabra):\n",
    "    print(palabra[i])\n",
    "    i -= 1"
   ]
  },
  {
   "cell_type": "code",
   "execution_count": 40,
   "metadata": {},
   "outputs": [
    {
     "name": "stdout",
     "output_type": "stream",
     "text": [
      "n\n",
      "o\n",
      "h\n",
      "t\n",
      "y\n",
      "P\n"
     ]
    }
   ],
   "source": [
    "for letra in reversed(palabra):\n",
    "    print(letra)\n",
    "    "
   ]
  },
  {
   "cell_type": "markdown",
   "metadata": {},
   "source": [
    "## Ejercicio 6\n",
    "Escribe un programa que calcule la cantidad de veces que está la letra \"m\" o \"M\" en la frase:\n",
    "> \"En un lugar de La Mancha, de cuyo nombre no quiero acordarme\""
   ]
  },
  {
   "cell_type": "code",
   "execution_count": 43,
   "metadata": {},
   "outputs": [
    {
     "name": "stdout",
     "output_type": "stream",
     "text": [
      "3\n"
     ]
    }
   ],
   "source": [
    "frase = \"En un lugar de La Mancha, de cuyo nombre no quiero acordarme\"\n",
    "frase_low = frase.lower()\n",
    "suma_m = 0\n",
    "for letra in frase_low:\n",
    "    if letra == \"m\":\n",
    "        suma_m += 1\n",
    "print (suma_m)"
   ]
  },
  {
   "cell_type": "markdown",
   "metadata": {},
   "source": [
    "## Ejercicio 7\n",
    "Crea un programa que simule la siguiente pirámide. Para ello, el programa tiene que pedirle al usuario un caracter cualquiera. El número de filas es fijo, 5. Vas a necesitar usar dos bucles anidados.\n",
    "\n",
    "W W W W W \n",
    "\n",
    "W W W W \n",
    "\n",
    "W W W \n",
    "\n",
    "W W \n",
    "\n",
    "W \n",
    "\n",
    "\n"
   ]
  },
  {
   "cell_type": "code",
   "execution_count": 49,
   "metadata": {},
   "outputs": [
    {
     "name": "stdout",
     "output_type": "stream",
     "text": [
      " W W W W W\n",
      " W W W W\n",
      " W W W\n",
      " W W\n",
      " W\n"
     ]
    }
   ],
   "source": [
    "pir = input (\"Caracter para hacer una piramide:\")\n",
    "pirj = \"\"\n",
    "i=0\n",
    "while i<5:\n",
    "    j=5-i\n",
    "    while j>0:\n",
    "        pirj = pirj + \" \" +pir\n",
    "        j -= 1\n",
    "    print (pirj)\n",
    "    pirj = \"\"\n",
    "    i += 1\n"
   ]
  },
  {
   "cell_type": "markdown",
   "metadata": {},
   "source": [
    " ## Ejercicio 8\n",
    " Crea un programa que en función de un input numérico que inserte el usuario, imprima por pantalla la pirámide de ejemplo. Si el input es 6, tendrá 6 pisos, pero si introduce 10, la pirámide tendrá 10 pisos.\n",
    " \n",
    " 1 2 3 4 5 6\n",
    " \n",
    " 1 2 3 4 5\n",
    " \n",
    " 1 2 3 4\n",
    " \n",
    " 1 2 3\n",
    " \n",
    " 1 2\n",
    " \n",
    " 1"
   ]
  },
  {
   "cell_type": "code",
   "execution_count": 55,
   "metadata": {},
   "outputs": [
    {
     "name": "stdout",
     "output_type": "stream",
     "text": [
      " 1 2 3 4 5\n",
      " 1 2 3 4\n",
      " 1 2 3\n",
      " 1 2\n",
      " 1\n"
     ]
    }
   ],
   "source": [
    "num = input(\"Introduce un nº:\")\n",
    "num2 = int(float(num))\n",
    "list_num = []\n",
    "for i in range(num2):\n",
    "    list_num.append(i+1)\n",
    "while num2 > 0:\n",
    "    j=0\n",
    "    sol = \"\"\n",
    "    while j<len(list_num):\n",
    "        sol = sol + \" \" + str(j+1)\n",
    "        j += 1\n",
    "    print (sol)\n",
    "    list_num.remove(num2)\n",
    "    num2 -= 1"
   ]
  },
  {
   "cell_type": "markdown",
   "metadata": {},
   "source": [
    "## Ejercicio 9\n",
    "Replica el siguiente patrón"
   ]
  },
  {
   "cell_type": "raw",
   "metadata": {},
   "source": [
    "* \n",
    "* * \n",
    "* * * \n",
    "* * * * \n",
    "* * * * * \n",
    "* * * * \n",
    "* * * \n",
    "* * \n",
    "* "
   ]
  },
  {
   "cell_type": "code",
   "execution_count": 58,
   "metadata": {},
   "outputs": [
    {
     "name": "stdout",
     "output_type": "stream",
     "text": [
      " *\n",
      " * *\n",
      " * * *\n",
      " * * * *\n",
      " * * * * *\n",
      " * * * *\n",
      " * * *\n",
      " * *\n",
      " *\n"
     ]
    }
   ],
   "source": [
    "ast = \"\"\n",
    "for i in range (9):\n",
    "    if i<5:\n",
    "        ast = ast + \" *\"\n",
    "        print (ast)\n",
    "    else:\n",
    "        j = 9-i\n",
    "        ast = \"\"\n",
    "        for x in range(j):\n",
    "            ast = ast + \" *\"\n",
    "        print (ast)\n",
    "\n",
    "\n"
   ]
  },
  {
   "cell_type": "markdown",
   "metadata": {},
   "source": [
    "## Ejercicio 10\n",
    "Imprime toda la secuencia de numeros del 1 al 10, excepto el 3, 4 y 9. Impleméntalo de dos maneras diferentes"
   ]
  },
  {
   "cell_type": "code",
   "execution_count": 60,
   "metadata": {},
   "outputs": [
    {
     "name": "stdout",
     "output_type": "stream",
     "text": [
      "1\n",
      "2\n",
      "4\n",
      "5\n",
      "7\n",
      "8\n",
      "10\n"
     ]
    }
   ],
   "source": [
    "i=1\n",
    "while i<=10:\n",
    "    if i==3 or i==6 or i==9:\n",
    "        i += 1\n",
    "    print (i)\n",
    "    i += 1"
   ]
  },
  {
   "cell_type": "code",
   "execution_count": 64,
   "metadata": {},
   "outputs": [
    {
     "name": "stdout",
     "output_type": "stream",
     "text": [
      "1\n",
      "2\n",
      "4\n",
      "5\n",
      "7\n",
      "8\n",
      "10\n"
     ]
    }
   ],
   "source": [
    "for i in range(1,11):\n",
    "    if i!=3 and i!=6 and i!=9:\n",
    "        print (i)"
   ]
  },
  {
   "cell_type": "markdown",
   "metadata": {},
   "source": [
    "## Ejercicio 11\n",
    "Suponiendo que siempre se cumple que las dos listas del ejercicio son iguales de tamaño, implementa un programa que calcule el ratio ingreso/gasto de cada elemento, y lo guarde en una nueva lista. Si hubiese algún problema con los datos, hay que almacenar un mensaje de error en la lista del resultado. Usa `try/except`\n",
    "> ingresos = [100, 200, 500, 100, 600]\n",
    ">\n",
    "> gastos = [50, 20, 70, 0, 25]"
   ]
  },
  {
   "cell_type": "code",
   "execution_count": 2,
   "metadata": {},
   "outputs": [
    {
     "name": "stdout",
     "output_type": "stream",
     "text": [
      "[2.0, 10.0, 7.142857142857143, 'ZeroDivisionError', 24.0]\n"
     ]
    }
   ],
   "source": [
    "ingresos = [100, 200, 500, 100, 600]\n",
    "gastos = [50, 20, 70, 0, 25]\n",
    "ratio = []\n",
    "for i in range(len(ingresos)):\n",
    "    try:\n",
    "        ratio.append(ingresos[i]/gastos[i])\n",
    "    except:\n",
    "        ratio.append(\"ZeroDivisionError\")\n",
    "print (ratio)"
   ]
  },
  {
   "cell_type": "markdown",
   "metadata": {},
   "source": [
    "## Ejercicio 12\n",
    "Muy parecido al anterior, aunque ahora tendremos que excepcionar más tipos de errores con estos nuevos datos. En este caso, almacena un mensaje diferente en la lista resultado, para cada error.\n",
    "\n",
    "> ingresos = [100, \"HHH\", 500, 100, 600, 900, 150]\n",
    ">\n",
    "> gastos = [50, 20, 70, 0, 25]"
   ]
  },
  {
   "cell_type": "code",
   "execution_count": 69,
   "metadata": {},
   "outputs": [
    {
     "name": "stdout",
     "output_type": "stream",
     "text": [
      "[2.0, <class 'TypeError'>, 7.142857142857143, <class 'ZeroDivisionError'>, 24.0, <class 'IndexError'>, <class 'IndexError'>]\n"
     ]
    }
   ],
   "source": [
    "ingresos = [100, \"HHH\", 500, 100, 600, 900, 150]\n",
    "gastos = [50, 20, 70, 0, 25]\n",
    "ratio = []\n",
    "for i in range(len(ingresos)):\n",
    "    try:\n",
    "        ratio.append(ingresos[i]/gastos[i])\n",
    "    except (ZeroDivisionError):\n",
    "        ratio.append(ZeroDivisionError)\n",
    "    except (TypeError):\n",
    "        ratio.append(TypeError)\n",
    "    except (IndexError):\n",
    "        ratio.append(IndexError)\n",
    "print (ratio)"
   ]
  }
 ],
 "metadata": {
  "kernelspec": {
   "display_name": "Python 3.7.4 64-bit",
   "language": "python",
   "name": "python3"
  },
  "language_info": {
   "codemirror_mode": {
    "name": "ipython",
    "version": 3
   },
   "file_extension": ".py",
   "mimetype": "text/x-python",
   "name": "python",
   "nbconvert_exporter": "python",
   "pygments_lexer": "ipython3",
   "version": "3.11.3"
  },
  "vscode": {
   "interpreter": {
    "hash": "252189e587d1e2aeba4a06e91fa71896c7a7f6e22e918b9407c7cde4ef2d5985"
   }
  }
 },
 "nbformat": 4,
 "nbformat_minor": 4
}
