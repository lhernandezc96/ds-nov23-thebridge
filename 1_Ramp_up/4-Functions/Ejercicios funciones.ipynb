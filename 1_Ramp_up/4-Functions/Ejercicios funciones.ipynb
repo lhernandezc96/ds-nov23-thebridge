{
 "cells": [
  {
   "cell_type": "markdown",
   "metadata": {},
   "source": [
    "![imagen](./img/ejercicios.png)"
   ]
  },
  {
   "cell_type": "markdown",
   "metadata": {},
   "source": [
    "# Ejercicios funciones\n",
    "## Ejercicio 1\n",
    "Escribe una función que convierta números del 1 al 7 en nombres de los dias de la semana. La función constará de un único argumento numérico y una salida de tipo string"
   ]
  },
  {
   "cell_type": "code",
   "execution_count": 2,
   "metadata": {},
   "outputs": [
    {
     "name": "stdout",
     "output_type": "stream",
     "text": [
      "Jueves\n",
      "No es un valor valido\n"
     ]
    }
   ],
   "source": [
    "def diaSemana (i):\n",
    "    dia = [\"Lunes\", \"Martes\", \"Miercoles\", \"Jueves\", \"Viernes\", \"Sabado\", \"Domingo\"]\n",
    "    if 0 < i < 7:\n",
    "        return dia[i-1]\n",
    "    else:\n",
    "        return \"No es un valor valido\"\n",
    "print (diaSemana(4))\n",
    "print (diaSemana(8))\n"
   ]
  },
  {
   "cell_type": "markdown",
   "metadata": {},
   "source": [
    "## Ejercicio 2\n",
    "En el ejercicio 8 de bucles, creábamos una pirámide invertida, cuyo número de pisos venía determinado por un input del usuario. Crear una función que replique el comportamiento de la pirámide, y utiliza un único parámetro de entrada de la función para determinar el número de filas de la pirámide, es decir, elimina la sentencia input."
   ]
  },
  {
   "cell_type": "code",
   "execution_count": 41,
   "metadata": {},
   "outputs": [],
   "source": [
    "def piramide (num):\n",
    "    list_num = []\n",
    "    for i in range(num):\n",
    "        list_num.append(i+1)\n",
    "    while num > 0:\n",
    "        j=0\n",
    "        sol = \"\"\n",
    "        while j<len(list_num):\n",
    "            sol = sol + \" \" + str(j+1)\n",
    "            j += 1\n",
    "        print (sol)\n",
    "        list_num.remove(num)\n",
    "        num -= 1\n",
    "    \n"
   ]
  },
  {
   "cell_type": "code",
   "execution_count": 42,
   "metadata": {},
   "outputs": [
    {
     "name": "stdout",
     "output_type": "stream",
     "text": [
      " 1 2 3 4 5 6 7 8 9 10\n",
      " 1 2 3 4 5 6 7 8 9\n",
      " 1 2 3 4 5 6 7 8\n",
      " 1 2 3 4 5 6 7\n",
      " 1 2 3 4 5 6\n",
      " 1 2 3 4 5\n",
      " 1 2 3 4\n",
      " 1 2 3\n",
      " 1 2\n",
      " 1\n"
     ]
    }
   ],
   "source": [
    "piramide(10)\n"
   ]
  },
  {
   "cell_type": "markdown",
   "metadata": {},
   "source": [
    "## Ejercicio 3\n",
    "Escibe una función que compare dos números. La función tiene dos argumentos y hay tres salidas posibles: que sean iguales, que el primero se  mayor que el segundo, o que el segundo sea mayor que el primero"
   ]
  },
  {
   "cell_type": "code",
   "execution_count": 10,
   "metadata": {},
   "outputs": [
    {
     "name": "stdout",
     "output_type": "stream",
     "text": [
      "Son iguales\n",
      "8 es mayor que 4\n",
      "4 es menor que 8\n"
     ]
    }
   ],
   "source": [
    "\n",
    "def comparaNum (x, y):\n",
    "    if x > y:\n",
    "        return str(x) + \" es mayor que \" + str(y)\n",
    "    elif x == y:\n",
    "        return \"Son iguales\"\n",
    "    else:\n",
    "        return str(x) + \" es menor que \" + str(y)\n",
    "print (comparaNum(8,8))\n",
    "print (comparaNum(8,4))\n",
    "print (comparaNum(4,8))"
   ]
  },
  {
   "cell_type": "markdown",
   "metadata": {},
   "source": [
    "## Ejercicio 4\n",
    "Escribe una función que sea un contador de letras. En el primer argumento tienes que introducir un texto, y el segundo que sea la letra a contar. La función tiene que devolver un entero con el número de veces que aparece esa letra, tanto mayuscula, como minúscula"
   ]
  },
  {
   "cell_type": "code",
   "execution_count": 22,
   "metadata": {},
   "outputs": [
    {
     "name": "stdout",
     "output_type": "stream",
     "text": [
      "5\n"
     ]
    }
   ],
   "source": [
    "\n",
    "def contadorLetra (frase, letra):\n",
    "    n=0\n",
    "    for letra_in_frase in frase:\n",
    "        if letra_in_frase == letra:\n",
    "            n += 1\n",
    "    return n\n",
    "print (contadorLetra(\"En un lugar de La Mancha, de cuyo nombre no quiero acordarme\",\"e\"))\n"
   ]
  },
  {
   "cell_type": "markdown",
   "metadata": {},
   "source": [
    "## Ejercicio 5\n",
    "Escribe una función que tenga un único argumento, un string. La salida de la función tiene que ser un diccionario con el conteo de todas las letras de ese string."
   ]
  },
  {
   "cell_type": "code",
   "execution_count": 23,
   "metadata": {},
   "outputs": [
    {
     "name": "stdout",
     "output_type": "stream",
     "text": [
      "{'l': 1, 'o': 5, 'a': 6, 'n': 5, 'e': 5, ' ': 11, 'm': 2, 'h': 1, 'b': 1, 'g': 1, 'u': 4, 'y': 1, 'r': 5, 'q': 1, 'd': 3, 'M': 1, 'c': 3, 'i': 1, ',': 1, 'L': 1, 'E': 1}\n"
     ]
    }
   ],
   "source": [
    "def dicletras (frase):\n",
    "    setfrase = set(frase)\n",
    "    dicsol = {}\n",
    "    for caracter in setfrase:\n",
    "        dicsol.update({caracter:contadorLetra(frase,caracter)})\n",
    "    return dicsol\n",
    "print (dicletras(\"En un lugar de La Mancha, de cuyo nombre no quiero acordarme\"))"
   ]
  },
  {
   "cell_type": "markdown",
   "metadata": {},
   "source": [
    "## Ejercicio 6\n",
    "Escribir una función que añada o elimine elementos en una lista. La función necesita los siguientes argumentos:\n",
    "* lista: la lista donde se añadirán o eliminarán los elementos\n",
    "* comando: \"add\" o \"remove\"\n",
    "* elemento: Por defecto es None."
   ]
  },
  {
   "cell_type": "code",
   "execution_count": 40,
   "metadata": {},
   "outputs": [
    {
     "name": "stdout",
     "output_type": "stream",
     "text": [
      "[2, 1, 3, 4, 5, 67]\n",
      "[2, 1, 3, 4, 67]\n",
      "En la segunda variable solo sirve introducir \"add\" o \"remove\"\n",
      "[2, 1, 3, 4, 67]\n",
      "El elemento no se encuentra en la lista\n",
      "[2, 1, 3, 4, 67]\n",
      "[2, 1, 3, 4, 67, None]\n"
     ]
    }
   ],
   "source": [
    "def addremove (lista, funcion, elemento=None):\n",
    "    if funcion == \"add\":\n",
    "        lista.append(elemento)\n",
    "        return lista\n",
    "    elif funcion == \"remove\":\n",
    "        try:\n",
    "            lista.remove(elemento)\n",
    "            return lista\n",
    "        except:\n",
    "            print (\"El elemento no se encuentra en la lista\")\n",
    "    else:\n",
    "        print (\"En la segunda variable solo sirve introducir \\\"add\\\" o \\\"remove\\\"\")\n",
    "lista = [2,1,3,4,5]\n",
    "addremove(lista, \"add\", 67)\n",
    "print(lista)\n",
    "addremove(lista, \"remove\", 5)\n",
    "print(lista)\n",
    "addremove(lista, \"ad\", 67)\n",
    "print(lista)\n",
    "addremove(lista, \"remove\", 6)\n",
    "print(lista)\n",
    "addremove(lista, \"add\")\n",
    "print(lista)"
   ]
  },
  {
   "cell_type": "markdown",
   "metadata": {},
   "source": [
    "## Ejercicio 7\n",
    "Crea una función que reciba un número arbitrario de palabras, y devuelva una frase completa, separando las palabras con espacios."
   ]
  },
  {
   "cell_type": "code",
   "execution_count": 44,
   "metadata": {},
   "outputs": [
    {
     "name": "stdout",
     "output_type": "stream",
     "text": [
      "Hola, soy Luis\n"
     ]
    }
   ],
   "source": [
    "def creaFrases (*palabras):\n",
    "    frase = \"\"\n",
    "    for i in palabras:\n",
    "        frase += i + \" \"\n",
    "    return frase[0:-1]\n",
    "print (creaFrases(\"Hola,\", \"soy\", \"Luis\"))\n"
   ]
  },
  {
   "cell_type": "markdown",
   "metadata": {},
   "source": [
    "## Ejercicio 8\n",
    "Escribe un programa que obtenga el enésimo número de la [serie de Fibonacci](https://es.wikipedia.org/wiki/Sucesi%C3%B3n_de_Fibonacci). Tienes que crear una función recursiva con un único argumento.\n",
    "\n",
    "```Python\n",
    "fibonacci(2) = 1\n",
    "fibonacci(4) = 3\n",
    "fibonacci(5) = 5\n",
    "fibonacci(8) = 21\n",
    "```"
   ]
  },
  {
   "cell_type": "code",
   "execution_count": 39,
   "metadata": {},
   "outputs": [
    {
     "name": "stdout",
     "output_type": "stream",
     "text": [
      "1\n",
      "3\n",
      "5\n",
      "21\n"
     ]
    }
   ],
   "source": [
    "def fibonacci(n):\n",
    "    if n <= 0:\n",
    "        return \"El valor de 'n' debe ser un número entero positivo.\"\n",
    "\n",
    "    if n == 1:\n",
    "        return 1\n",
    "    elif n == 2:\n",
    "        return 1\n",
    "    else:\n",
    "        return fibonacci(n - 1) + fibonacci(n - 2)\n",
    "print(fibonacci(2))\n",
    "print(fibonacci(4))\n",
    "print(fibonacci(5))\n",
    "print(fibonacci(8))"
   ]
  },
  {
   "cell_type": "markdown",
   "metadata": {},
   "source": [
    "## Ejercicio 9\n",
    "Define en una única celda las siguientes funciones:\n",
    "* Función que calcule el área de un cuadrado\n",
    "* Función que calcule el area de un triángulo\n",
    "* Función que calcule el área de un círculo\n",
    "\n",
    "En otra celda, calcular el area de:\n",
    "* Dos círculos de radio 10 + un triángulo de base 3 y altura 7\n",
    "* Un cuadrado de lado = 10 + 3 círculos (uno de radio = 4 y los otros dos de radio = 6) + 5 triángulos de base = 2 + altura = 4"
   ]
  },
  {
   "cell_type": "code",
   "execution_count": 34,
   "metadata": {},
   "outputs": [],
   "source": [
    "import math\n",
    "def areaCuadrado (lado):\n",
    "    return lado * lado\n",
    "def areaTriangulo (base, lado):\n",
    "    return base * lado\n",
    "def areaCirculo (radio):\n",
    "    return math.pi * (radio**2)"
   ]
  },
  {
   "cell_type": "code",
   "execution_count": 46,
   "metadata": {},
   "outputs": [
    {
     "name": "stdout",
     "output_type": "stream",
     "text": [
      "649.3185307179587\n",
      "416.46015351590177\n"
     ]
    }
   ],
   "source": [
    "print (2 * areaCirculo(10) + areaTriangulo(3,7))\n",
    "print (areaCuadrado(10) + areaCirculo(4) + 2 * areaCirculo(6) + 5 * areaTriangulo(2,4))"
   ]
  },
  {
   "cell_type": "code",
   "execution_count": null,
   "metadata": {},
   "outputs": [],
   "source": []
  }
 ],
 "metadata": {
  "kernelspec": {
   "display_name": "Python 3 (ipykernel)",
   "language": "python",
   "name": "python3"
  },
  "language_info": {
   "codemirror_mode": {
    "name": "ipython",
    "version": 3
   },
   "file_extension": ".py",
   "mimetype": "text/x-python",
   "name": "python",
   "nbconvert_exporter": "python",
   "pygments_lexer": "ipython3",
   "version": "3.11.3"
  }
 },
 "nbformat": 4,
 "nbformat_minor": 4
}
