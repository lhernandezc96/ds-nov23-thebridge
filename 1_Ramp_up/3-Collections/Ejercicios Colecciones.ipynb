{
 "cells": [
  {
   "cell_type": "markdown",
   "metadata": {},
   "source": [
    "![imagen](./img/ejercicios.png)"
   ]
  },
  {
   "cell_type": "markdown",
   "metadata": {},
   "source": [
    "## Ejercicio 1\n",
    "Dada la siguiente lista:\n",
    "> ```ejer_1 = [1,2,3,4,5]```\n",
    "\n",
    "Inviértela para que quede de la siguiente manera\n",
    "> ```ejer_1 = [5,4,3,2,1]```"
   ]
  },
  {
   "cell_type": "code",
   "execution_count": 1,
   "metadata": {},
   "outputs": [
    {
     "data": {
      "text/plain": [
       "[5, 4, 3, 2, 1]"
      ]
     },
     "execution_count": 1,
     "metadata": {},
     "output_type": "execute_result"
    }
   ],
   "source": [
    "ejer_1 = [1,2,3,4,5]\n",
    "ejer_1.reverse()\n",
    "ejer_1"
   ]
  },
  {
   "cell_type": "markdown",
   "metadata": {},
   "source": [
    "## Ejercicio 2\n",
    "Eleva todos los elementos de la lista al cuadrado\n",
    "> ```ejer_2 = [1,2,3,4,5]```"
   ]
  },
  {
   "cell_type": "code",
   "execution_count": 3,
   "metadata": {},
   "outputs": [
    {
     "data": {
      "text/plain": [
       "[1, 4, 9, 16, 25]"
      ]
     },
     "execution_count": 3,
     "metadata": {},
     "output_type": "execute_result"
    }
   ],
   "source": [
    "ejer_2 = [1,2,3,4,5]\n",
    "for i in range(len(ejer_2)):\n",
    "    ejer_2[i] = ejer_2[i] ** 2\n",
    "ejer_2"
   ]
  },
  {
   "cell_type": "markdown",
   "metadata": {},
   "source": [
    "## Ejercicio 3\n",
    "Crea una lista nueva con todas las combinaciones de las siguientes dos listas:\n",
    "> ```ejer_3_1 = [\"Hola\", \"amigo\"]```\n",
    ">\n",
    "> ```ejer_3_2 = [\"Que\", \"tal\"]```\n",
    "\n",
    "Obten el siguiente output:\n",
    "\n",
    "['Hola Que', 'Hola tal', 'amigo Que', 'amigo tal']"
   ]
  },
  {
   "cell_type": "code",
   "execution_count": 6,
   "metadata": {},
   "outputs": [
    {
     "data": {
      "text/plain": [
       "['Hola Que', 'Hola tal', 'amigo Que', 'amigo tal']"
      ]
     },
     "execution_count": 6,
     "metadata": {},
     "output_type": "execute_result"
    }
   ],
   "source": [
    "ejer_3_1 = [\"Hola\", \"amigo\"]\n",
    "ejer_3_2 = [\"Que\", \"tal\"]\n",
    "ejer_3_3 = []\n",
    "for i in ejer_3_1:\n",
    "    for j in ejer_3_2:\n",
    "            ejer_3_3.append(i + \" \" + j)\n",
    "ejer_3_3"
   ]
  },
  {
   "cell_type": "markdown",
   "metadata": {},
   "source": [
    "## Ejercicio 4\n",
    "Dada la siguiente lista, encuentra el índice del valor 45 y sustitúyelo por el 0\n",
    "> ```ejer_4 = [20, 47, 19, 29, 45, 67, 78, 90]```"
   ]
  },
  {
   "cell_type": "code",
   "execution_count": 8,
   "metadata": {},
   "outputs": [
    {
     "data": {
      "text/plain": [
       "[20, 47, 19, 29, 0, 67, 78, 90]"
      ]
     },
     "execution_count": 8,
     "metadata": {},
     "output_type": "execute_result"
    }
   ],
   "source": [
    "ejer_4 = [20, 47, 19, 29, 45, 67, 78, 90]\n",
    "for i in range(len(ejer_4)):\n",
    "    if ejer_4[i] == 45:\n",
    "        ejer_4[i] = 0\n",
    "ejer_4"
   ]
  },
  {
   "attachments": {},
   "cell_type": "markdown",
   "metadata": {},
   "source": [
    "## Ejercicio 5\n",
    "Dada la siguiente lista, elimina todos los valores iguales a 3\n",
    "> ```ejer_5 = [3, 20, 3, 47, 19, 3, 29, 45, 67, 78, 90, 3, 3]```\n",
    "\n",
    "Consejo: No intentes eliminar elementos sobre la lista que estás iterando. Haz una copia con `ejer_5.copy()`."
   ]
  },
  {
   "cell_type": "code",
   "execution_count": 13,
   "metadata": {},
   "outputs": [
    {
     "data": {
      "text/plain": [
       "[20, 47, 19, 29, 45, 67, 78, 90]"
      ]
     },
     "execution_count": 13,
     "metadata": {},
     "output_type": "execute_result"
    }
   ],
   "source": [
    "ejer_5 = [3, 20, 3, 47, 19, 3, 29, 45, 67, 78, 90, 3, 3]\n",
    "ejer_5_1 = [3, 20, 3, 47, 19, 3, 29, 45, 67, 78, 90, 3, 3]\n",
    "for i in range(len(ejer_5)):\n",
    "    if ejer_5[i] == 3:\n",
    "        ejer_5_1.remove(3)\n",
    "\n",
    "ejer_5_1"
   ]
  },
  {
   "cell_type": "markdown",
   "metadata": {},
   "source": [
    "## Ejercicio 6\n",
    "1. Crea una tupla con 3 elementos\n",
    "2. Crea otra tupla con un elemento y comprueba su tipo\n",
    "3. Crea una tupla con elementos de diferentes tipos\n",
    "4. Imprime por pantalla el primer y ultimo elemento de la tupla del apartado 3. Usa `len` para el ultimo\n",
    "5. Añade un elemento a la tupla del apartado 3.\n",
    "6. Eliminar un elemento de la tupla del apartado 5, que se encuentre más o menos en la mitad.\n",
    "7. Convierte la tupla del apartado 5 en una lista"
   ]
  },
  {
   "cell_type": "code",
   "execution_count": 47,
   "metadata": {},
   "outputs": [
    {
     "name": "stdout",
     "output_type": "stream",
     "text": [
      "(3, 2, 2)\n",
      "(4,)\n",
      "<class 'tuple'>\n",
      "(2, 3.4, 'Hola')\n",
      "2 Hola\n",
      "(2, 3.4, 'Hola', 'Adios')\n",
      "(2, 3.4, 'Adios')\n",
      "[2, 3.4, 'Hola', 'Adios']\n"
     ]
    }
   ],
   "source": [
    "ejer_6_1 = (3,2,2)\n",
    "print(ejer_6_1)\n",
    "ejer_6_2 = (4,)\n",
    "print(ejer_6_2)\n",
    "print(type(ejer_6_2))\n",
    "ejer_6_3 = (2, 3.4, \"Hola\")\n",
    "print(ejer_6_3)\n",
    "print(ejer_6_3[0], ejer_6_3[len(ejer_6_3)-1])\n",
    "ejer_6_5 = ejer_6_3 + (\"Adios\",)\n",
    "print(ejer_6_5)\n",
    "ejer_6_6_l = list(ejer_6_5)\n",
    "del ejer_6_6_l[int(len(ejer_6_6_l)/2)]\n",
    "ejer_6_6 = tuple(ejer_6_6_l)\n",
    "print(ejer_6_6)\n",
    "ejer_6_6_l = list(ejer_6_5)\n",
    "print(ejer_6_6_l)\n"
   ]
  },
  {
   "cell_type": "markdown",
   "metadata": {},
   "source": [
    "## Ejercicio 7\n",
    "Concatena todos los elementos de la tupla en un unico string. Para ello utiliza el metodo `.join()` de los Strings\n",
    "> ```ejer_7 = (\"cien\", \"cañones\", \"por\", \"banda\")```\n",
    "\n",
    "Resultado: `cien cañones por banda`"
   ]
  },
  {
   "cell_type": "code",
   "execution_count": 30,
   "metadata": {},
   "outputs": [
    {
     "name": "stdout",
     "output_type": "stream",
     "text": [
      "cien cañones por banda\n"
     ]
    }
   ],
   "source": [
    "ejer_7 = (\"cien\", \"cañones\", \"por\", \"banda\")\n",
    "print(\" \".join(ejer_7))"
   ]
  },
  {
   "cell_type": "markdown",
   "metadata": {},
   "source": [
    "## Ejercicio 8\n",
    "Obten el tercer elemento de la siguiente tupla, y el tercero empezando por la cola\n",
    "> ```ejer_8 = (3, 20, 3, 47, 19, 3, 29, 45, 67, 78, 90, 3, 3)```"
   ]
  },
  {
   "cell_type": "code",
   "execution_count": 31,
   "metadata": {},
   "outputs": [
    {
     "name": "stdout",
     "output_type": "stream",
     "text": [
      "3 90\n"
     ]
    }
   ],
   "source": [
    "ejer_8 = (3, 20, 3, 47, 19, 3, 29, 45, 67, 78, 90, 3, 3)\n",
    "print(ejer_8[2],ejer_8[-3])"
   ]
  },
  {
   "cell_type": "markdown",
   "metadata": {},
   "source": [
    "## Ejercicio 9\n",
    "1. ¿Cuántas veces se repite el 3 en la siguiente tupla?\n",
    "2. Crea una tupla nueva con los elementos desde la posicion 5 a la 10.\n",
    "3. ¿Cuántos elementos tiene la tupla `ejer_9`?\n",
    "> ```ejer_9 = (3, 20, 3, 47, 19, 3, 29, 45, 67, 78, 90, 3, 3, 5, 2, 4, 7, 9, 4, 2, 4, 3, 3, 4, 6, 7)```"
   ]
  },
  {
   "cell_type": "code",
   "execution_count": 36,
   "metadata": {},
   "outputs": [
    {
     "name": "stdout",
     "output_type": "stream",
     "text": [
      "7\n",
      "(19, 3, 29, 45, 67, 78)\n",
      "26\n"
     ]
    }
   ],
   "source": [
    "ejer_9 = (3, 20, 3, 47, 19, 3, 29, 45, 67, 78, 90, 3, 3, 5, 2, 4, 7, 9, 4, 2, 4, 3, 3, 4, 6, 7)\n",
    "n = 0\n",
    "for i in ejer_9:\n",
    "    if i == 3:\n",
    "        n +=1\n",
    "print(n)\n",
    "ejer_9_2 = ejer_9[4:10]\n",
    "print(ejer_9_2)\n",
    "print(len(ejer_9))"
   ]
  },
  {
   "cell_type": "markdown",
   "metadata": {},
   "source": [
    "## Ejercicio 10\n",
    "Comprueba si el numero 60 esta en la tupla del ejercicio 9"
   ]
  },
  {
   "cell_type": "code",
   "execution_count": 39,
   "metadata": {},
   "outputs": [
    {
     "name": "stdout",
     "output_type": "stream",
     "text": [
      "False\n"
     ]
    }
   ],
   "source": [
    "i=0\n",
    "while i < len(ejer_9):\n",
    "    if ejer_9[i] == 60:\n",
    "        print (True)\n",
    "    i += 1\n",
    "else:\n",
    "    print (False)\n"
   ]
  },
  {
   "cell_type": "markdown",
   "metadata": {},
   "source": [
    "## Ejercicio 11\n",
    "1. Convierte la tupla del apartado 10 en una lista\n",
    "2. Convierte la tupla del apartado 10 en un set\n",
    "3. Convierte la tupla del apartado 10 en un diccionario. Usa también los indices"
   ]
  },
  {
   "cell_type": "code",
   "execution_count": 45,
   "metadata": {},
   "outputs": [
    {
     "name": "stdout",
     "output_type": "stream",
     "text": [
      "[3, 20, 3, 47, 19, 3, 29, 45, 67, 78, 90, 3, 3, 5, 2, 4, 7, 9, 4, 2, 4, 3, 3, 4, 6, 7]\n",
      "{2, 3, 67, 5, 4, 7, 6, 9, 45, 78, 47, 19, 20, 90, 29}\n",
      "{0: 3, 1: 20, 2: 3, 3: 47, 4: 19, 5: 3, 6: 29, 7: 45, 8: 67, 9: 78, 10: 90, 11: 3, 12: 3, 13: 5, 14: 2, 15: 4, 16: 7, 17: 9, 18: 4, 19: 2, 20: 4, 21: 3, 22: 3, 23: 4, 24: 6, 25: 7}\n"
     ]
    }
   ],
   "source": [
    "ejer_11_1 = list(ejer_9)\n",
    "ejer_11_2 = set(ejer_9)\n",
    "ejer_11_3 = dict(enumerate(ejer_9))\n",
    "print (ejer_11_1)\n",
    "print (ejer_11_2)\n",
    "print (ejer_11_3)"
   ]
  },
  {
   "cell_type": "markdown",
   "metadata": {},
   "source": [
    "## Ejercicio 12\n",
    "Convierte la siguiente tupla en un diccionario\n",
    "> ```ejer_12 = [(\"x\", 1), (\"x\", 2), (\"x\", 3), (\"y\", 1), (\"y\", 2), (\"z\", 1)]```\n",
    "\n",
    "TIP: Puedes usar dos variables de control en un bucle `for`. Una por cada valor de las tuplas."
   ]
  },
  {
   "cell_type": "code",
   "execution_count": 48,
   "metadata": {},
   "outputs": [
    {
     "name": "stdout",
     "output_type": "stream",
     "text": [
      "{'x': [1, 2, 3], 'y': [1, 2], 'z': [1]}\n"
     ]
    }
   ],
   "source": [
    "#Quedandome con todos los valores de xyz\n",
    "ejer_12 = [(\"x\", 1), (\"x\", 2), (\"x\", 3), (\"y\", 1), (\"y\", 2), (\"z\", 1)]\n",
    "ejer_12_1 = {}\n",
    "\n",
    "for clave, valor in ejer_12:\n",
    "    if clave in ejer_12_1:\n",
    "        ejer_12_1[clave].append(valor)\n",
    "    else:\n",
    "        ejer_12_1[clave] = [valor]\n",
    "print(ejer_12_1)"
   ]
  },
  {
   "cell_type": "code",
   "execution_count": 50,
   "metadata": {},
   "outputs": [
    {
     "name": "stdout",
     "output_type": "stream",
     "text": [
      "{'x': 3, 'y': 2, 'z': 1}\n"
     ]
    }
   ],
   "source": [
    "#Solo quedandome con el ultimo valor de xyz\n",
    "ejer_12_2 = {}\n",
    "for clave, valor in ejer_12:\n",
    "    ejer_12_2[clave] = valor\n",
    "print(ejer_12_2)"
   ]
  },
  {
   "cell_type": "markdown",
   "metadata": {},
   "source": [
    "## Ejercicio 13\n",
    "1. Crea una lista ordenada ascendente con las claves del diccionario\n",
    "2. Crea otra lista ordenada descendente con los valores\n",
    "3. Añade una nueva clave/valor\n",
    "4. Busca la clave 2 dentro del diccionario\n",
    "5. Itera la clave y el valor del diccionario con un unico for\n",
    "> ```ejer_13 = {4:78, 2:98, 8:234, 5:29}```"
   ]
  },
  {
   "cell_type": "code",
   "execution_count": 56,
   "metadata": {},
   "outputs": [
    {
     "name": "stdout",
     "output_type": "stream",
     "text": [
      "[2, 4, 5, 8]\n",
      "[234, 98, 78, 29]\n",
      "{4: 78, 2: 98, 8: 234, 5: 29, 6: 65}\n",
      "98\n",
      "4 78\n",
      "2 98\n",
      "8 234\n",
      "5 29\n",
      "6 65\n"
     ]
    }
   ],
   "source": [
    "ejer_13 = {4:78, 2:98, 8:234, 5:29}\n",
    "ejer_13_1 = sorted(list(ejer_13.keys()))\n",
    "print(ejer_13_1)\n",
    "ejer_13_2 = sorted(list(ejer_13.values()), reverse=True)\n",
    "print(ejer_13_2)\n",
    "ejer_13[6] = 65\n",
    "print(ejer_13)\n",
    "print(ejer_13[2])\n",
    "for clave, valor in ejer_13.items():\n",
    "    print(clave, valor)"
   ]
  },
  {
   "cell_type": "markdown",
   "metadata": {},
   "source": [
    "## Ejercicio 14\n",
    "Junta ambos diccionarios. Para ello, utiliza `update`\n",
    "> ```ejer_14_1 = {1: 11, 2: 22}```\n",
    ">\n",
    "> ```ejer_14_2 = {3: 33, 4: 44}```"
   ]
  },
  {
   "cell_type": "code",
   "execution_count": 57,
   "metadata": {},
   "outputs": [
    {
     "name": "stdout",
     "output_type": "stream",
     "text": [
      "{1: 11, 2: 22, 3: 33, 4: 44}\n"
     ]
    }
   ],
   "source": [
    "ejer_14_1 = {1: 11, 2: 22}\n",
    "ejer_14_2 = {3: 33, 4: 44}\n",
    "ejer_14_1.update(ejer_14_2)\n",
    "print(ejer_14_1)"
   ]
  },
  {
   "cell_type": "markdown",
   "metadata": {},
   "source": [
    "## Ejercicio 15\n",
    "Suma todos los valores del dicionario\n",
    "> ```ejer_15 = {1: 11, 2: 22, 3: 33, 4: 44, 5: 55}```"
   ]
  },
  {
   "cell_type": "code",
   "execution_count": 58,
   "metadata": {},
   "outputs": [
    {
     "name": "stdout",
     "output_type": "stream",
     "text": [
      "165\n"
     ]
    }
   ],
   "source": [
    "ejer_15 = {1: 11, 2: 22, 3: 33, 4: 44, 5: 55}\n",
    "print(sum(ejer_15.values()))"
   ]
  },
  {
   "cell_type": "markdown",
   "metadata": {},
   "source": [
    "## Ejercicio 16\n",
    "Multiplica todos los valores del diccionario\n",
    "> ```ejer_16 = {1: 11, 2: 22, 3: 33, 4: 44, 5: 55}```"
   ]
  },
  {
   "cell_type": "code",
   "execution_count": 60,
   "metadata": {},
   "outputs": [
    {
     "name": "stdout",
     "output_type": "stream",
     "text": [
      "19326120\n"
     ]
    }
   ],
   "source": [
    "ejer_16 = {1: 11, 2: 22, 3: 33, 4: 44, 5: 55}\n",
    "mul = 1\n",
    "for valor in ejer_16.values():\n",
    "    mul = mul * valor\n",
    "print(mul)"
   ]
  },
  {
   "cell_type": "markdown",
   "metadata": {},
   "source": [
    "## Ejercicio 17\n",
    "1. Crea un set de tres elementos\n",
    "2. Añade un cuarto\n",
    "3. Elimina el utlimo elemento añadido\n",
    "4. Elimina el elemento 10, si está presente. Usa `discard()`"
   ]
  },
  {
   "cell_type": "code",
   "execution_count": 64,
   "metadata": {},
   "outputs": [
    {
     "name": "stdout",
     "output_type": "stream",
     "text": [
      "{1, 2, 3}\n",
      "{1, 2, 3, 4}\n",
      "{1, 2, 3, 4}\n"
     ]
    }
   ],
   "source": [
    "ejer_17 = {1, 2, 3}\n",
    "print(ejer_17)\n",
    "ejer_17.add(4)\n",
    "print(ejer_17)\n",
    "#Los sets no son ordenados por lo que no podemos eliminar el ultimo elemento añadido, a no ser que sepamos exactamente que es lo que\n",
    "#hemos añadido y lo borramos con un remove\n",
    "ejer_17.discard(10)\n",
    "print(ejer_17)\n"
   ]
  }
 ],
 "metadata": {
  "kernelspec": {
   "display_name": "Python 3.7.4 64-bit",
   "language": "python",
   "name": "python3"
  },
  "language_info": {
   "codemirror_mode": {
    "name": "ipython",
    "version": 3
   },
   "file_extension": ".py",
   "mimetype": "text/x-python",
   "name": "python",
   "nbconvert_exporter": "python",
   "pygments_lexer": "ipython3",
   "version": "3.11.3"
  },
  "vscode": {
   "interpreter": {
    "hash": "252189e587d1e2aeba4a06e91fa71896c7a7f6e22e918b9407c7cde4ef2d5985"
   }
  }
 },
 "nbformat": 4,
 "nbformat_minor": 4
}
