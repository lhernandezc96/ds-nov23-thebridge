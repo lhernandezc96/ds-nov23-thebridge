{
 "cells": [
  {
   "cell_type": "markdown",
   "id": "1f1401c1-4dc9-4902-95bf-160715a42a25",
   "metadata": {},
   "source": [
    "# Prueba de Ramp-up"
   ]
  },
  {
   "cell_type": "markdown",
   "id": "1b34c670-a6dd-482d-9b04-5babee7be17a",
   "metadata": {},
   "source": [
    "Antes de comenzar, cambia el nombre del archivo notebook poniéndole delante tu nombre y primer apellido:\n",
    "\n",
    "* nombre_apellido_test_pract_nov_2023.ipynb"
   ]
  },
  {
   "cell_type": "code",
   "execution_count": 3,
   "id": "c8d9a657-272c-425a-9ac4-ea59f479673c",
   "metadata": {},
   "outputs": [],
   "source": [
    "# Escribe tu nombre en la variable:\n",
    "nombre_y_apellidos = \"Luis Hernández Casado\" "
   ]
  },
  {
   "cell_type": "code",
   "execution_count": 5,
   "id": "2e9f9af5-076c-44ec-9a80-95c0e99cdc58",
   "metadata": {},
   "outputs": [],
   "source": [
    "\"\"\"\n",
    "Criterios de corrección:\n",
    "\n",
    "ejecución (ausencia de errores y obtención de resultados)\n",
    "estructura del código\n",
    "uso correcto de variables\n",
    "manejo de tipo de variables\n",
    "asignaciones\n",
    "operaciones booleanas\n",
    "manejo lógico de flujos de control y bucles\n",
    "uso de colecciones\n",
    "uso de funciones\n",
    "\"\"\";\n",
    "\n",
    "# Ejemplo de como queremos ver el código para más de un intento:\n",
    "\n",
    "# intento 1\n",
    "#your code\n",
    "\n",
    "# intento 2\n",
    "#your code"
   ]
  },
  {
   "cell_type": "code",
   "execution_count": 6,
   "id": "bb16d0e3-3bb9-4f2b-944e-8fc35e628701",
   "metadata": {},
   "outputs": [],
   "source": [
    "# crea todas las celdas que necesites"
   ]
  },
  {
   "cell_type": "markdown",
   "id": "9e02b8f5-6f66-4e73-acfa-7f8c3977de2a",
   "metadata": {},
   "source": [
    "#### Notas y pruebas de apoyo para contestar las preguntas\n",
    "\n",
    "\n",
    "Cualquier código aunque no esté correcto nos dirá más de ti que no escribir nada. "
   ]
  },
  {
   "cell_type": "markdown",
   "id": "57d6b062-27f8-4377-b583-d662777b0bd7",
   "metadata": {},
   "source": [
    "__Debes subir tus respuestas antes de las 12:00 al enlace que habilitaremos__"
   ]
  },
  {
   "cell_type": "markdown",
   "id": "062d81e8",
   "metadata": {},
   "source": [
    "#### Ejercicio 1\n",
    "\n",
    "Disponemos de una lista con información sobre varios empleados:\n",
    "\n",
    "    empleados = [[12345, \"Juan Rodríguez\", 53, [\"Director financiero\"], 2],[56789, \"Laura Pérez\", 41, [\"CEO\", \"Director\", \"Gerente\"], 2],[88354, \"Pedro Álvarez\", 26, [\"Asistente\",\"Gestor comercial\"], 3]]\n",
    "\n",
    "Respecto de cada empleado, la lista contiene cinco elementos: en el primero almacenamos su tfno, en el segundo su nombre, en el tercero su edad, en el cuarto los puestos que ha desempeñado en la empresa (en forma de lista) y en el quinto su código postal.\n",
    "\n",
    "1. Siguiendo la misma estructura, incluye un nuevo empleado en la última posición de la lista empleados.\n",
    "\n",
    "2. Mostrar por pantalla, sin uso de funciones (salvo print) ni bucles: \n",
    "\n",
    "    - El nombre y la edad del tercer empleado de la lista empleados.\n",
    "    - Los puestos desempeñados por Pedro Álvarez, ordenados de atras a adelante (es decir, de Gestor comercial a Asistente)\n",
    "    - Si el nuevo empleado que has añadido tiene más o igual a 60 años, muestra por pantalla los puestos que el nuevo empleado haya desempeñado en la empresa. En caso contrario, muestra los puestos desempeñados por Laura Pérez y Juan Rodriguez."
   ]
  },
  {
   "cell_type": "code",
   "execution_count": 26,
   "id": "ae316b4b",
   "metadata": {},
   "outputs": [
    {
     "name": "stdout",
     "output_type": "stream",
     "text": [
      "El tercer empleado se llama Pedro Álvarez y tiene 26 años\n",
      "['Gestor comercial', 'Asistente']\n",
      "Los puestos desempeñados por Laura Perez: ['CEO', 'Director', 'Gerente']\n",
      "Los puestos desempeñados por Juan Rodriguez: ['Director financiero']\n"
     ]
    }
   ],
   "source": [
    "empleados = [[12345, \"Juan Rodríguez\", 53, [\"Director financiero\"], 2],[56789, \"Laura Pérez\", 41, [\"CEO\", \"Director\", \"Gerente\"], 2],[88354, \"Pedro Álvarez\", 26, [\"Asistente\",\"Gestor comercial\"], 3]]\n",
    "empleados.append([28654, \"Pedro Alonso\", 41, [\"Marketing\", \"Director\"],4])\n",
    "print(\"El tercer empleado se llama\", empleados[2][1], \"y tiene\", empleados[2][2], \"años\")\n",
    "print(empleados[2][3][::-1])\n",
    "if empleados[-1][2] >= 60:\n",
    "    print(empleados[-1][3])\n",
    "else:\n",
    "    print(\"Los puestos desempeñados por Laura Perez:\", empleados[1][3])\n",
    "    print(\"Los puestos desempeñados por Juan Rodriguez:\", empleados[0][3])\n"
   ]
  },
  {
   "cell_type": "markdown",
   "id": "4da89624-0da3-4f91-aa5c-a084c5ee1b17",
   "metadata": {},
   "source": [
    "#### Ejercicio 2. \n",
    "\n",
    "Escribe un programa que te diga si una letra es una consonante o una vocal. Crea tu propia **FUNCIÓN**\n"
   ]
  },
  {
   "cell_type": "code",
   "execution_count": 5,
   "id": "c58bf610-92de-4a5a-a00d-652279ea33dd",
   "metadata": {},
   "outputs": [
    {
     "name": "stdout",
     "output_type": "stream",
     "text": [
      "a es una vocal\n",
      "b no es una vocal\n"
     ]
    }
   ],
   "source": [
    "def vocal (letra):\n",
    "    if letra.lower() == \"a\" or letra.lower() == \"e\" or letra.lower() == \"i\" or letra.lower() == \"o\" or letra.lower() == \"u\":\n",
    "        print(letra, \"es una vocal\")\n",
    "    else:\n",
    "        print(letra, \"no es una vocal\")\n",
    "vocal(\"a\")\n",
    "vocal(\"b\")"
   ]
  },
  {
   "cell_type": "markdown",
   "id": "52065a6c-3d4c-44c0-a10b-958506c481b3",
   "metadata": {},
   "source": [
    "#### Ejercicio 3. \n",
    "\n",
    "Escribe un programa que calcule la edad humana de un perro.\n",
    "Tienes que pedirle al usuario la edad del perro en años.\n",
    "Si el usuario introduce un número negativo, imprime que la cifra facilitada no tiene sentido. Si el perro tiene un año, son 14 años humanos. Si tiene 2 años, son 22 años humanos.\n",
    "A partir de los 2 años, el cálculo es el siguiente: a la edad del perro se le restan 2 años, el resultado se multiplica por 5 y, finalmente, se le suma 22.\n",
    "Usa una función sin argumentos de entrada ni de salida (muestra toda la información con print())"
   ]
  },
  {
   "cell_type": "code",
   "execution_count": 7,
   "id": "9c59c801-1fe1-4a6d-a000-f85ca738ed00",
   "metadata": {},
   "outputs": [
    {
     "name": "stdout",
     "output_type": "stream",
     "text": [
      "Se debe introducir un número entero\n",
      "Si el perro tiene 4 años, en edad humana equivaldría a: 32 años\n"
     ]
    }
   ],
   "source": [
    "def edad_hum ():\n",
    "    try:\n",
    "        edad = int(input(\"introduce la edad del perro: \"))\n",
    "    except:\n",
    "        print(\"Se debe introducir un número entero\")\n",
    "        return edad_hum()\n",
    "    if edad == 0:\n",
    "        print (\"Si el perro tiene 0 años, en edad humana equivaldría a:\",edad, \"años\")\n",
    "    elif edad < 0:\n",
    "        print(\"La edad debe ser positiva\")\n",
    "    elif edad == 1:\n",
    "        print (\"Si el perro tiene 1 año, en edad humana equivaldría a: 14 años\")\n",
    "    elif edad == 2:\n",
    "        print (\"Si el perro tiene 2 años, en edad humana equivaldría a: 22 años\")\n",
    "    else:\n",
    "        edad_humana = (edad - 2)*5 + 22\n",
    "        print (\"Si el perro tiene\", edad, \"años, en edad humana equivaldría a:\", edad_humana, \"años\")\n",
    "\n",
    "edad_hum()\n",
    "    "
   ]
  },
  {
   "cell_type": "markdown",
   "id": "80566bfc-0e7c-4ece-ba93-18696dc8f5d8",
   "metadata": {},
   "source": [
    "#### Ejercicio 4. \n",
    "Escribe un programa que calcule la suma de todos los elementos de cada tupla guardada dentro de una lista de tuplas.\n",
    "\n",
    "Entrada:\n",
    "\n",
    "[(1, 2), (2, 3), (3, 4)]\n",
    "\n",
    "Resultado:\n",
    "\n",
    "[3, 5, 7]\n",
    "\n",
    "Entrada:\n",
    "[(1, 2, 6), (2, 3, -6), (3, 4), (2, 2, 2, 2)]\n",
    "\n",
    "\n",
    "Resultado:\n",
    "[9, -1, 7, 8]"
   ]
  },
  {
   "cell_type": "code",
   "execution_count": 15,
   "id": "90b7fc85-d781-46b7-a68e-28d783520daa",
   "metadata": {},
   "outputs": [
    {
     "name": "stdout",
     "output_type": "stream",
     "text": [
      "Entrada:\n",
      "[(1, 2, 5), (2, 3, 5, 2), (3, 4), (6, 7, 2)]\n",
      "Resultado:\n",
      "[8, 12, 7, 15]\n"
     ]
    }
   ],
   "source": [
    "from functools import reduce\n",
    "lista_tuplas = [(1, 2, 5), (2, 3, 5, 2), (3, 4), (6, 7, 2)]\n",
    "print(\"Entrada:\"+\"\\n\", lista_tuplas, sep=\"\")\n",
    "solucion = []\n",
    "for tupla in lista_tuplas:\n",
    "    solucion.append(reduce(lambda x,y: x + y, tupla))\n",
    "print(\"Resultado:\"+\"\\n\", solucion, sep=\"\")"
   ]
  },
  {
   "cell_type": "markdown",
   "id": "2991309f-4208-431a-900c-d9bc734bb936",
   "metadata": {},
   "source": [
    "#### Ejercicio 5. \n",
    "\n",
    "Escribe un programa que te diga si una frase es un pangrama. Un pangrama es una frase que contiene todas las letras del alfabeto.\n",
    "Puedes tener espacios en blanco, pero NO  tendrás signos de puntuación, a excepción de las tildes.\n",
    "\n",
    "Ejemplo de pangrama:\n",
    "\n",
    "Extraño pan de col y kiwi se quemó bajo fugaz vaho "
   ]
  },
  {
   "cell_type": "code",
   "execution_count": 27,
   "id": "9a349c1e-15ab-4253-97f8-2a07a263791d",
   "metadata": {},
   "outputs": [
    {
     "name": "stdout",
     "output_type": "stream",
     "text": [
      "La frase introducida es un pangrama\n",
      "La frase introducida no es un pangrama\n"
     ]
    }
   ],
   "source": [
    "entrada1 = \"Extraño pan de col y kiwi se quemó bajo fugaz vaho\"\n",
    "entrada2 = \"Extraño pan de col y kiwi se quemó bajo\"\n",
    "\n",
    "def pangrama (frase):\n",
    "    frase_sin_espacio = frase.replace(\" \",\"\").lower()\n",
    "    frase_separada = list(frase_sin_espacio)\n",
    "    set_de_letras = set(frase_separada)\n",
    "    if len(set_de_letras)<27:\n",
    "        print (\"La frase introducida no es un pangrama\")\n",
    "    else:\n",
    "        print (\"La frase introducida es un pangrama\")\n",
    "\n",
    "pangrama(entrada1)\n",
    "pangrama(entrada2)"
   ]
  },
  {
   "cell_type": "markdown",
   "id": "3dbb76e0-79b2-45e8-9034-58ee9cbd82bb",
   "metadata": {},
   "source": [
    "#### Ejercicio 6. \n",
    "\n",
    "Escribe un programa que use diccionarios para traducir palabras entre varios idiomas.\n",
    "Deberás pedirle al usuario una palabra por teclado, ver si está en tu diccionario. En caso de que esté, deberás mostrar la traducción de esa palabra.\n",
    "\n",
    "Ejemplo de diccionario:\n",
    "\n",
    "```python\n",
    "{\"file\": \"Fichier\", \"new\": \"Nouveau\", \"open\": \"Ouvrir\", \"save\": \"Enregistrer\", \"save as\": \"Enregistrer sous\", \"print preview\": \"Apercu avant impressioner\", \"print\": \"Imprimer\", \"close\": \"Fermer\", \"exit\": \"Quitter\"}\n"
   ]
  },
  {
   "cell_type": "code",
   "execution_count": 29,
   "id": "88236123-e8ac-45da-87d0-134a88a690c1",
   "metadata": {},
   "outputs": [
    {
     "name": "stdout",
     "output_type": "stream",
     "text": [
      "file ---> Fichier\n"
     ]
    }
   ],
   "source": [
    "def traductor ():\n",
    "    palabra = input(\"Introduce la palabra que quieres traducir: \")\n",
    "    mi_diccionario = {\"file\": \"Fichier\", \"new\": \"Nouveau\", \"open\": \"Ouvrir\", \"save\": \"Enregistrer\", \"save as\": \"Enregistrer sous\", \"print preview\": \"Apercu avant impressioner\", \"print\": \"Imprimer\", \"close\": \"Fermer\", \"exit\": \"Quitter\"}\n",
    "    if palabra in list(mi_diccionario.keys()):\n",
    "        indice = list(mi_diccionario.keys()).index(palabra)\n",
    "        print (palabra, \"--->\", list(mi_diccionario.values())[indice])\n",
    "    elif palabra in list(mi_diccionario.values()):\n",
    "        indice = list(mi_diccionario.values()).index(palabra)\n",
    "        print (palabra, \"--->\", list(mi_diccionario.keys())[indice])\n",
    "    else:\n",
    "        print (\"La palabra no se encuentra en el diccionario\")\n",
    "traductor()\n",
    "\n",
    "   "
   ]
  },
  {
   "cell_type": "markdown",
   "id": "61967ca4-7e06-44b3-ad7b-adbc0e71671a",
   "metadata": {},
   "source": [
    "#### Ejercicio 7.\n",
    "\n",
    "Usando objetos modela un theremin (es un instrumento musical que se toca modificando el campo electromagnético, por si tenías curiosidad).\n",
    "Tendrá de atributos la marca, el modelo, el peso, la potencia y la batería.\n",
    "\n",
    "Todos los instrumentos se crean con un peso predeterminado de 500, una potencia de 50 y una batería de 200.\n",
    "\n",
    "Cuando se recarga la batería vale 200.\n",
    "\n",
    "Cuando se toca, se muestra por pantalla que está sonando y la batería disminuye 10 (no siendo nunca negativo).\n",
    "Si no hay batería, no puede sonar. Crea un instrumento, tócalo mientras quede batería, cárgalo y no lo vuelvas a tocar.\n"
   ]
  },
  {
   "cell_type": "code",
   "execution_count": 2,
   "id": "8082c8cd-03a9-478e-aa72-4ec1306e1bb2",
   "metadata": {},
   "outputs": [
    {
     "name": "stdout",
     "output_type": "stream",
     "text": [
      "El theremin está tocando.\n",
      "El theremin está tocando.\n",
      "El theremin está tocando.\n",
      "El theremin está tocando.\n",
      "El theremin está tocando.\n",
      "El theremin está tocando.\n",
      "El theremin está tocando.\n",
      "El theremin está tocando.\n",
      "El theremin está tocando.\n",
      "El theremin está tocando.\n",
      "El theremin está tocando.\n",
      "El theremin está tocando.\n",
      "El theremin está tocando.\n",
      "El theremin está tocando.\n",
      "El theremin está tocando.\n",
      "El theremin está tocando.\n",
      "El theremin está tocando.\n",
      "El theremin está tocando.\n",
      "El theremin está tocando.\n",
      "El theremin está tocando.\n",
      "El theremin no tiene batería.\n",
      "Bateria recargada\n"
     ]
    }
   ],
   "source": [
    "class Theremin:\n",
    "    def __init__(self, marca, modelo, peso = 500, potencia = 50, bateria = 200):\n",
    "        self.marca = marca\n",
    "        self.modelo = modelo\n",
    "        self.peso = peso\n",
    "        self.potencia = potencia\n",
    "        self.bateria = bateria\n",
    "    def recargar (self):\n",
    "        self.bateria = 200\n",
    "        print(\"Bateria recargada\")\n",
    "    def tocar (self):\n",
    "        if self.bateria -10>= 0:\n",
    "            self.bateria -= 10\n",
    "            print(\"El theremin está tocando.\")\n",
    "        else:\n",
    "            print(\"El theremin no tiene batería.\")\n",
    "theremin = Theremin(1,2)\n",
    "while theremin.bateria>0:\n",
    "    theremin.tocar()\n",
    "theremin.tocar()\n",
    "theremin.recargar()\n"
   ]
  },
  {
   "cell_type": "markdown",
   "id": "30f773b5-a6da-4446-b36b-722b2ee57730",
   "metadata": {},
   "source": [
    "#### Ejercicio 8\n",
    "Una empresa usa dos listas  para guardar la información de sus empleados. Una lista guarda el nombre del empleado y la otra guarda su salario. Escribe un programa que cree esas dos listas originalmente vacías y que a través de un menú pueda hacer lo siguiente:\n",
    "    \n",
    "Inserta 1 para añadir un nuevo empleado y su salario\n",
    "\n",
    "Inserta 2 para imprimir los nombres y salarios de todos los empleados\n",
    "\n",
    "Inserta 3 para mostrar el número de empleados\n",
    "\n",
    "Inserta 4 para imprimir los nombres de los empleados con sueldos superiores a 400000\n",
    "\n",
    "Inserta 5 para subir un 5% los sueldos por debajo de 10000\n",
    "\n",
    "Inserta 6 para mostrar el total de todos los salarios\n",
    "\n",
    "Inserta 7 para salir del programa"
   ]
  },
  {
   "cell_type": "code",
   "execution_count": 4,
   "id": "67858e27-b7f5-4e05-bc50-3fca698ad22a",
   "metadata": {},
   "outputs": [
    {
     "name": "stdout",
     "output_type": "stream",
     "text": [
      "¡Bienvenido!\n",
      "\n",
      "    Inserta 1 para añadir un nuevo empleado y su salario\n",
      "    Inserta 2 para imprimir los nombres y salarios de todos los empleados\n",
      "    Inserta 3 para mostrar el número de empleados\n",
      "    Inserta 4 para imprimir los nombres de los empleados con sueldos superiores a 400000\n",
      "    Inserta 5 para subir un 5% los sueldos por debajo de 10000\n",
      "    Inserta 6 para mostrar el total de todos los salarios\n",
      "    Inserta 7 para salir del programa\n",
      "¡Bienvenido!\n",
      "                                \n",
      "    El valor introducido no esta entre el 1 y el 7\n",
      "\n",
      "    Inserta 1 para añadir un nuevo empleado y su salario\n",
      "    Inserta 2 para imprimir los nombres y salarios de todos los empleados\n",
      "    Inserta 3 para mostrar el número de empleados\n",
      "    Inserta 4 para imprimir los nombres de los empleados con sueldos superiores a 400000\n",
      "    Inserta 5 para subir un 5% los sueldos por debajo de 10000\n",
      "    Inserta 6 para mostrar el total de todos los salarios\n",
      "    Inserta 7 para salir del programa\n",
      "¡Bienvenido!\n",
      "\n",
      "    Inserta 1 para añadir un nuevo empleado y su salario\n",
      "    Inserta 2 para imprimir los nombres y salarios de todos los empleados\n",
      "    Inserta 3 para mostrar el número de empleados\n",
      "    Inserta 4 para imprimir los nombres de los empleados con sueldos superiores a 400000\n",
      "    Inserta 5 para subir un 5% los sueldos por debajo de 10000\n",
      "    Inserta 6 para mostrar el total de todos los salarios\n",
      "    Inserta 7 para salir del programa\n",
      "¡Bienvenido!\n",
      "\n",
      "    Inserta 1 para añadir un nuevo empleado y su salario\n",
      "    Inserta 2 para imprimir los nombres y salarios de todos los empleados\n",
      "    Inserta 3 para mostrar el número de empleados\n",
      "    Inserta 4 para imprimir los nombres de los empleados con sueldos superiores a 400000\n",
      "    Inserta 5 para subir un 5% los sueldos por debajo de 10000\n",
      "    Inserta 6 para mostrar el total de todos los salarios\n",
      "    Inserta 7 para salir del programa\n",
      "¡Bienvenido!\n",
      "\n",
      "    Inserta 1 para añadir un nuevo empleado y su salario\n",
      "    Inserta 2 para imprimir los nombres y salarios de todos los empleados\n",
      "    Inserta 3 para mostrar el número de empleados\n",
      "    Inserta 4 para imprimir los nombres de los empleados con sueldos superiores a 400000\n",
      "    Inserta 5 para subir un 5% los sueldos por debajo de 10000\n",
      "    Inserta 6 para mostrar el total de todos los salarios\n",
      "    Inserta 7 para salir del programa\n",
      "¡Bienvenido!\n",
      "\n",
      "    Inserta 1 para añadir un nuevo empleado y su salario\n",
      "    Inserta 2 para imprimir los nombres y salarios de todos los empleados\n",
      "    Inserta 3 para mostrar el número de empleados\n",
      "    Inserta 4 para imprimir los nombres de los empleados con sueldos superiores a 400000\n",
      "    Inserta 5 para subir un 5% los sueldos por debajo de 10000\n",
      "    Inserta 6 para mostrar el total de todos los salarios\n",
      "    Inserta 7 para salir del programa\n",
      "Nombre: Luis Salario: 240000\n",
      "Nombre: Pedro Salario: 20000000\n",
      "Nombre: Lucia Salario: 450000\n",
      "¡Bienvenido!\n",
      "\n",
      "    Inserta 1 para añadir un nuevo empleado y su salario\n",
      "    Inserta 2 para imprimir los nombres y salarios de todos los empleados\n",
      "    Inserta 3 para mostrar el número de empleados\n",
      "    Inserta 4 para imprimir los nombres de los empleados con sueldos superiores a 400000\n",
      "    Inserta 5 para subir un 5% los sueldos por debajo de 10000\n",
      "    Inserta 6 para mostrar el total de todos los salarios\n",
      "    Inserta 7 para salir del programa\n",
      "En la empresa hay 3 empleados\n",
      "¡Bienvenido!\n",
      "\n",
      "    Inserta 1 para añadir un nuevo empleado y su salario\n",
      "    Inserta 2 para imprimir los nombres y salarios de todos los empleados\n",
      "    Inserta 3 para mostrar el número de empleados\n",
      "    Inserta 4 para imprimir los nombres de los empleados con sueldos superiores a 400000\n",
      "    Inserta 5 para subir un 5% los sueldos por debajo de 10000\n",
      "    Inserta 6 para mostrar el total de todos los salarios\n",
      "    Inserta 7 para salir del programa\n",
      "En la empresa hay 3 empleados\n",
      "¡Bienvenido!\n",
      "\n",
      "    Inserta 1 para añadir un nuevo empleado y su salario\n",
      "    Inserta 2 para imprimir los nombres y salarios de todos los empleados\n",
      "    Inserta 3 para mostrar el número de empleados\n",
      "    Inserta 4 para imprimir los nombres de los empleados con sueldos superiores a 400000\n",
      "    Inserta 5 para subir un 5% los sueldos por debajo de 10000\n",
      "    Inserta 6 para mostrar el total de todos los salarios\n",
      "    Inserta 7 para salir del programa\n",
      "Los empleados con sueldos superiores a 400000 son:\n",
      " Nombre: Pedro Salario: 20000000\n",
      "Los empleados con sueldos superiores a 400000 son:\n",
      " Nombre: Lucia Salario: 450000\n",
      "¡Bienvenido!\n",
      "\n",
      "    Inserta 1 para añadir un nuevo empleado y su salario\n",
      "    Inserta 2 para imprimir los nombres y salarios de todos los empleados\n",
      "    Inserta 3 para mostrar el número de empleados\n",
      "    Inserta 4 para imprimir los nombres de los empleados con sueldos superiores a 400000\n",
      "    Inserta 5 para subir un 5% los sueldos por debajo de 10000\n",
      "    Inserta 6 para mostrar el total de todos los salarios\n",
      "    Inserta 7 para salir del programa\n",
      "Los empleados con sueldos superiores a 400000 son:\n",
      " Nombre: Pedro Salario: 20000000\n",
      "Los empleados con sueldos superiores a 400000 son:\n",
      " Nombre: Lucia Salario: 450000\n",
      "¡Bienvenido!\n",
      "\n",
      "    Inserta 1 para añadir un nuevo empleado y su salario\n",
      "    Inserta 2 para imprimir los nombres y salarios de todos los empleados\n",
      "    Inserta 3 para mostrar el número de empleados\n",
      "    Inserta 4 para imprimir los nombres de los empleados con sueldos superiores a 400000\n",
      "    Inserta 5 para subir un 5% los sueldos por debajo de 10000\n",
      "    Inserta 6 para mostrar el total de todos los salarios\n",
      "    Inserta 7 para salir del programa\n",
      "¡Bienvenido!\n",
      "\n",
      "    Inserta 1 para añadir un nuevo empleado y su salario\n",
      "    Inserta 2 para imprimir los nombres y salarios de todos los empleados\n",
      "    Inserta 3 para mostrar el número de empleados\n",
      "    Inserta 4 para imprimir los nombres de los empleados con sueldos superiores a 400000\n",
      "    Inserta 5 para subir un 5% los sueldos por debajo de 10000\n",
      "    Inserta 6 para mostrar el total de todos los salarios\n",
      "    Inserta 7 para salir del programa\n",
      "Nombre: Luis Salario: 240000\n",
      "Nombre: Pedro Salario: 20000000\n",
      "Nombre: Lucia Salario: 450000\n",
      "¡Bienvenido!\n",
      "\n",
      "    Inserta 1 para añadir un nuevo empleado y su salario\n",
      "    Inserta 2 para imprimir los nombres y salarios de todos los empleados\n",
      "    Inserta 3 para mostrar el número de empleados\n",
      "    Inserta 4 para imprimir los nombres de los empleados con sueldos superiores a 400000\n",
      "    Inserta 5 para subir un 5% los sueldos por debajo de 10000\n",
      "    Inserta 6 para mostrar el total de todos los salarios\n",
      "    Inserta 7 para salir del programa\n",
      "¡Bienvenido!\n",
      "\n",
      "    Inserta 1 para añadir un nuevo empleado y su salario\n",
      "    Inserta 2 para imprimir los nombres y salarios de todos los empleados\n",
      "    Inserta 3 para mostrar el número de empleados\n",
      "    Inserta 4 para imprimir los nombres de los empleados con sueldos superiores a 400000\n",
      "    Inserta 5 para subir un 5% los sueldos por debajo de 10000\n",
      "    Inserta 6 para mostrar el total de todos los salarios\n",
      "    Inserta 7 para salir del programa\n",
      "¡Bienvenido!\n",
      "\n",
      "    Inserta 1 para añadir un nuevo empleado y su salario\n",
      "    Inserta 2 para imprimir los nombres y salarios de todos los empleados\n",
      "    Inserta 3 para mostrar el número de empleados\n",
      "    Inserta 4 para imprimir los nombres de los empleados con sueldos superiores a 400000\n",
      "    Inserta 5 para subir un 5% los sueldos por debajo de 10000\n",
      "    Inserta 6 para mostrar el total de todos los salarios\n",
      "    Inserta 7 para salir del programa\n",
      "Nombre: Luis Salario: 240000\n",
      "Nombre: Pedro Salario: 20000000\n",
      "Nombre: Lucia Salario: 450000\n",
      "Nombre: Mama Salario: 2100.0\n",
      "¡Bienvenido!\n",
      "\n",
      "    Inserta 1 para añadir un nuevo empleado y su salario\n",
      "    Inserta 2 para imprimir los nombres y salarios de todos los empleados\n",
      "    Inserta 3 para mostrar el número de empleados\n",
      "    Inserta 4 para imprimir los nombres de los empleados con sueldos superiores a 400000\n",
      "    Inserta 5 para subir un 5% los sueldos por debajo de 10000\n",
      "    Inserta 6 para mostrar el total de todos los salarios\n",
      "    Inserta 7 para salir del programa\n",
      "El gasto total en salarios de la empresa es de: 20692100.0\n",
      "¡Bienvenido!\n",
      "\n",
      "    Inserta 1 para añadir un nuevo empleado y su salario\n",
      "    Inserta 2 para imprimir los nombres y salarios de todos los empleados\n",
      "    Inserta 3 para mostrar el número de empleados\n",
      "    Inserta 4 para imprimir los nombres de los empleados con sueldos superiores a 400000\n",
      "    Inserta 5 para subir un 5% los sueldos por debajo de 10000\n",
      "    Inserta 6 para mostrar el total de todos los salarios\n",
      "    Inserta 7 para salir del programa\n",
      "El gasto total en salarios de la empresa es de: 20692100.0\n",
      "¡Bienvenido!\n",
      "\n",
      "    Inserta 1 para añadir un nuevo empleado y su salario\n",
      "    Inserta 2 para imprimir los nombres y salarios de todos los empleados\n",
      "    Inserta 3 para mostrar el número de empleados\n",
      "    Inserta 4 para imprimir los nombres de los empleados con sueldos superiores a 400000\n",
      "    Inserta 5 para subir un 5% los sueldos por debajo de 10000\n",
      "    Inserta 6 para mostrar el total de todos los salarios\n",
      "    Inserta 7 para salir del programa\n"
     ]
    }
   ],
   "source": [
    "empleados = []\n",
    "salarios = []\n",
    "def RRHH ():\n",
    "     print(('''¡Bienvenido!\n",
    "\n",
    "    Inserta 1 para añadir un nuevo empleado y su salario\n",
    "    Inserta 2 para imprimir los nombres y salarios de todos los empleados\n",
    "    Inserta 3 para mostrar el número de empleados\n",
    "    Inserta 4 para imprimir los nombres de los empleados con sueldos superiores a 400000\n",
    "    Inserta 5 para subir un 5% los sueldos por debajo de 10000\n",
    "    Inserta 6 para mostrar el total de todos los salarios\n",
    "    Inserta 7 para salir del programa'''))\n",
    "     menu = int(input())\n",
    "     if menu == 1:\n",
    "        nuevo_empleado = input(\"Nombre del empleado: \")\n",
    "        nuevo_salario = int(input(\"Salario del empleado: \"))\n",
    "        empleados.append(nuevo_empleado)\n",
    "        salarios.append(nuevo_salario)\n",
    "     elif menu == 2:\n",
    "        i=0\n",
    "        while i < len(empleados):\n",
    "            print(\"Nombre:\",empleados[i],\"Salario:\",salarios[i])\n",
    "            i += 1\n",
    "     elif menu == 3:\n",
    "        print(\"En la empresa hay\",len(empleados), \"empleados\")\n",
    "     elif menu == 4:\n",
    "        i=0\n",
    "        while i < len(empleados):\n",
    "            if salarios[i]>400000:\n",
    "                print(\"Los empleados con sueldos superiores a 400000 son:\\n\",\"Nombre:\",empleados[i],\"Salario:\",salarios[i])\n",
    "            i += 1\n",
    "     elif menu == 5:\n",
    "        for sueldo in salarios:\n",
    "            if sueldo < 10000:\n",
    "                salarios[salarios.index(sueldo)] = sueldo * 1.05\n",
    "     elif menu == 6:\n",
    "        print(\"El gasto total en salarios de la empresa es de:\", sum(salarios))\n",
    "     elif menu == 7:\n",
    "        return None\n",
    "     else:\n",
    "        print('''¡Bienvenido!\n",
    "                                \n",
    "    El valor introducido no esta entre el 1 y el 7\n",
    "\n",
    "    Inserta 1 para añadir un nuevo empleado y su salario\n",
    "    Inserta 2 para imprimir los nombres y salarios de todos los empleados\n",
    "    Inserta 3 para mostrar el número de empleados\n",
    "    Inserta 4 para imprimir los nombres de los empleados con sueldos superiores a 400000\n",
    "    Inserta 5 para subir un 5% los sueldos por debajo de 10000\n",
    "    Inserta 6 para mostrar el total de todos los salarios\n",
    "    Inserta 7 para salir del programa''')\n",
    "     return RRHH()\n",
    "\n",
    "           \n",
    "RRHH()"
   ]
  },
  {
   "cell_type": "markdown",
   "id": "e33a0e21-476e-4103-b889-a6b3e76b99f3",
   "metadata": {},
   "source": [
    "\n",
    "#### (EXTRA) Ejercicio 9.\n",
    "\n",
    "Escribe un programa que __USE RECURSIVIDAD__ para decidir cuál es la película de Pixar favorita de un usuario.\n",
    "El programa preguntará al usuario cuál de 2 películas es su favorita, y con esa favorita se le volverá a preguntar entre esa y otra película cuál es su favorita...y así hasta que el usuario haya decidido de entre todas cuál es su favorita.\n",
    "\n",
    "Pista: si no quieres cambiar una lista, usa copy() y tendrás una copia que es otro objeto\n",
    "\n"
   ]
  },
  {
   "cell_type": "code",
   "execution_count": 23,
   "id": "c9936fd4-6d29-4535-9f34-a6f289d18d8b",
   "metadata": {},
   "outputs": [
    {
     "name": "stdout",
     "output_type": "stream",
     "text": [
      "Si prefieres Toy Story marca 1, si prefieres Soul marca 2\n",
      "Si prefieres Toy Story marca 1, si prefieres Up marca 2\n",
      "Si prefieres Up marca 1, si prefieres Coco marca 2\n",
      "Si prefieres Up marca 1, si prefieres Luca marca 2\n",
      "Si prefieres Up marca 1, si prefieres Monsters marca 2\n",
      "Si prefieres Up marca 1, si prefieres Inside Out marca 2\n",
      "Si prefieres Inside Out marca 1, si prefieres WallE marca 2\n",
      "Si prefieres Inside Out marca 1, si prefieres Buscando a Nemo marca 2\n",
      "Si prefieres Inside Out marca 1, si prefieres Los increíbles marca 2\n",
      "Tu pelicula favorita de Pixar es: Inside Out\n"
     ]
    }
   ],
   "source": [
    "lista_pelis_original = [\"Toy Story\", \"Soul\", \"Up\", \"Coco\", \"Luca\", \"Monsters\", \"Inside Out\", \"WallE\", \"Buscando a Nemo\", \"Los increíbles\"] \n",
    "lista_pelis = lista_pelis_original.copy()\n",
    "def pelicula_favorita ():\n",
    "    \n",
    "    if len(lista_pelis) == 1:\n",
    "        print(\"Tu pelicula favorita de Pixar es:\", lista_pelis[0])\n",
    "        \n",
    "    else:\n",
    "        print(\"Si prefieres\", lista_pelis[0], \"marca 1, si prefieres\", lista_pelis[1], \"marca 2\")\n",
    "        try:\n",
    "            mejor = int(input())\n",
    "        except:\n",
    "            print (\"Por favor introduce un 1 o un 2, no sirve cualquier otro numero\")\n",
    "            return pelicula_favorita()\n",
    "        if mejor == 1:\n",
    "            del lista_pelis[1]\n",
    "            return pelicula_favorita()\n",
    "        elif mejor == 2:\n",
    "            del lista_pelis[0]\n",
    "            return pelicula_favorita()\n",
    "        else:\n",
    "            print (\"Por favor introduce un 1 o un 2, no sirve cualquier otro numero\")\n",
    "            return pelicula_favorita()\n",
    "    \n",
    "\n",
    "    \n",
    "\n",
    "pelicula_favorita()"
   ]
  },
  {
   "cell_type": "code",
   "execution_count": 1,
   "id": "10a7b881",
   "metadata": {},
   "outputs": [],
   "source": [
    "# FIN DEL RAMP-UP\n"
   ]
  }
 ],
 "metadata": {
  "kernelspec": {
   "display_name": "Python 3 (ipykernel)",
   "language": "python",
   "name": "python3"
  },
  "language_info": {
   "codemirror_mode": {
    "name": "ipython",
    "version": 3
   },
   "file_extension": ".py",
   "mimetype": "text/x-python",
   "name": "python",
   "nbconvert_exporter": "python",
   "pygments_lexer": "ipython3",
   "version": "3.11.3"
  },
  "vscode": {
   "interpreter": {
    "hash": "252189e587d1e2aeba4a06e91fa71896c7a7f6e22e918b9407c7cde4ef2d5985"
   }
  }
 },
 "nbformat": 4,
 "nbformat_minor": 5
}
