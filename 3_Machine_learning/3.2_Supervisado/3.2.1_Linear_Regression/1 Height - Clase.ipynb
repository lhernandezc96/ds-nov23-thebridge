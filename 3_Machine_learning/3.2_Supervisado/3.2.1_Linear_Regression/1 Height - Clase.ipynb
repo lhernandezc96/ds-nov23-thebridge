{
 "cells": [
  {
   "cell_type": "markdown",
   "metadata": {},
   "source": [
    "### Se pide, usando regresión lineal:\n",
    "\n",
    "Dibujar con una línea la relación que hay entre la altura y la edad de los alumnos de esta clase: \n",
    "\n",
    "- ¿Es una buena técnica para este tipo de problemas? ¿Por qué? \n",
    "- ¿Qué error se comete? Calcula los errores que está cometiendo tu modelo uno a uno (lo tienes que calcular tú con python). Aparte, usa el MSE y el RMSE. ¿Alguno es mejor para este problema?\n",
    "- Representa la matriz de correlación, ¿los datos están correlacionados?"
   ]
  },
  {
   "cell_type": "code",
   "execution_count": 1,
   "metadata": {},
   "outputs": [],
   "source": [
    "lista_alumnos = [[\"Pedro\", 47, 1.80],\n",
    "                 [\"Tomás\", 31, 1.80],\n",
    "                 [\"Ana\", 39, 1.65],\n",
    "                 [\"Natalio\", 29, 1.73],\n",
    "                 [\"Monica\", 47, 1.73],\n",
    "                 [\"Jose\", 24, 1.75],\n",
    "                 [\"Carolina\", 34, 1.64],\n",
    "                 [\"Alberto\", 36, 1.60],\n",
    "                 [\"Cristina\", 46, 1.70],\n",
    "                 [\"Alba\", 29, 1.68],\n",
    "                 [\"Laura\", 40, 1.60],\n",
    "                 [\"Luis\", 47, 1.69],\n",
    "                 [\"Jaime\", 38, 1.60],\n",
    "                 [\"Fernando\", 51, 1.75]]"
   ]
  },
  {
   "cell_type": "code",
   "execution_count": 2,
   "metadata": {},
   "outputs": [],
   "source": [
    "import numpy as np\n",
    "import pandas as pd\n",
    "import matplotlib.pyplot as plt\n",
    "import seaborn as sns\n",
    "\n",
    "from sklearn.linear_model import LinearRegression\n",
    "from sklearn.model_selection import train_test_split\n",
    "from sklearn.metrics import mean_squared_error, mean_absolute_error"
   ]
  },
  {
   "cell_type": "code",
   "execution_count": 3,
   "metadata": {},
   "outputs": [
    {
     "data": {
      "text/html": [
       "<div>\n",
       "<style scoped>\n",
       "    .dataframe tbody tr th:only-of-type {\n",
       "        vertical-align: middle;\n",
       "    }\n",
       "\n",
       "    .dataframe tbody tr th {\n",
       "        vertical-align: top;\n",
       "    }\n",
       "\n",
       "    .dataframe thead th {\n",
       "        text-align: right;\n",
       "    }\n",
       "</style>\n",
       "<table border=\"1\" class=\"dataframe\">\n",
       "  <thead>\n",
       "    <tr style=\"text-align: right;\">\n",
       "      <th></th>\n",
       "      <th>Nombre</th>\n",
       "      <th>Edad</th>\n",
       "      <th>Altura</th>\n",
       "    </tr>\n",
       "  </thead>\n",
       "  <tbody>\n",
       "    <tr>\n",
       "      <th>0</th>\n",
       "      <td>Pedro</td>\n",
       "      <td>47</td>\n",
       "      <td>1.80</td>\n",
       "    </tr>\n",
       "    <tr>\n",
       "      <th>1</th>\n",
       "      <td>Tomás</td>\n",
       "      <td>31</td>\n",
       "      <td>1.80</td>\n",
       "    </tr>\n",
       "    <tr>\n",
       "      <th>2</th>\n",
       "      <td>Ana</td>\n",
       "      <td>39</td>\n",
       "      <td>1.65</td>\n",
       "    </tr>\n",
       "    <tr>\n",
       "      <th>3</th>\n",
       "      <td>Natalio</td>\n",
       "      <td>29</td>\n",
       "      <td>1.73</td>\n",
       "    </tr>\n",
       "    <tr>\n",
       "      <th>4</th>\n",
       "      <td>Monica</td>\n",
       "      <td>47</td>\n",
       "      <td>1.73</td>\n",
       "    </tr>\n",
       "  </tbody>\n",
       "</table>\n",
       "</div>"
      ],
      "text/plain": [
       "    Nombre  Edad  Altura\n",
       "0    Pedro    47    1.80\n",
       "1    Tomás    31    1.80\n",
       "2      Ana    39    1.65\n",
       "3  Natalio    29    1.73\n",
       "4   Monica    47    1.73"
      ]
     },
     "execution_count": 3,
     "metadata": {},
     "output_type": "execute_result"
    }
   ],
   "source": [
    "# df\n",
    "df = pd.DataFrame(lista_alumnos, columns = [\"Nombre\", \"Edad\", \"Altura\"])\n",
    "df.head()\n"
   ]
  },
  {
   "cell_type": "code",
   "execution_count": 4,
   "metadata": {},
   "outputs": [
    {
     "name": "stdout",
     "output_type": "stream",
     "text": [
      "[47, 31, 39, 29, 47, 24, 34, 36, 46, 29, 40, 47, 38, 51]\n",
      "[1.8, 1.8, 1.65, 1.73, 1.73, 1.75, 1.64, 1.6, 1.7, 1.68, 1.6, 1.69, 1.6, 1.75]\n"
     ]
    }
   ],
   "source": [
    "edad = [     e[1] for e in lista_alumnos    ]\n",
    "altura = [e[2] for e in lista_alumnos]\n",
    "print(edad)\n",
    "print(altura)"
   ]
  },
  {
   "cell_type": "code",
   "execution_count": 5,
   "metadata": {},
   "outputs": [
    {
     "data": {
      "text/plain": [
       "<matplotlib.collections.PathCollection at 0x1a2ffeec450>"
      ]
     },
     "execution_count": 5,
     "metadata": {},
     "output_type": "execute_result"
    },
    {
     "data": {
      "image/png": "[encoded data removed]",
      "text/plain": [
       "<Figure size 640x480 with 1 Axes>"
      ]
     },
     "metadata": {},
     "output_type": "display_data"
    }
   ],
   "source": [
    "plt.scatter(edad, altura)"
   ]
  },
  {
   "cell_type": "code",
   "execution_count": 34,
   "metadata": {},
   "outputs": [],
   "source": [
    "# Obtener X_train, X_test, y_train, y_test, semilla 42\n",
    "X = df[['Edad']]\n",
    "y = df['Altura']\n",
    "X_train, X_test, y_train, y_test = train_test_split(X,y,test_size=0.2,random_state=33) "
   ]
  },
  {
   "cell_type": "code",
   "execution_count": 29,
   "metadata": {},
   "outputs": [
    {
     "name": "stdout",
     "output_type": "stream",
     "text": [
      "(11, 1)\n",
      "(3, 1)\n"
     ]
    }
   ],
   "source": [
    "print(X_train.shape)\n",
    "print(X_test.shape)"
   ]
  },
  {
   "cell_type": "code",
   "execution_count": 35,
   "metadata": {},
   "outputs": [
    {
     "name": "stdout",
     "output_type": "stream",
     "text": [
      "1.6690400374619527 [0.00038047]\n"
     ]
    }
   ],
   "source": [
    "# modelo de regresión lineal\n",
    "model = LinearRegression()\n",
    "model.fit(X_train, y_train)\n",
    "print(model.intercept_,model.coef_)"
   ]
  },
  {
   "cell_type": "code",
   "execution_count": 36,
   "metadata": {},
   "outputs": [
    {
     "data": {
      "text/plain": [
       "Text(0.5, 0, 'Edad')"
      ]
     },
     "execution_count": 36,
     "metadata": {},
     "output_type": "execute_result"
    },
    {
     "data": {
      "image/png": "[encoded data removed]",
      "text/plain": [
       "<Figure size 640x480 with 1 Axes>"
      ]
     },
     "metadata": {},
     "output_type": "display_data"
    }
   ],
   "source": [
    "# dibujar la regresión lineal y los puntos con un diagrama de dispersión \n",
    "plt.scatter(X_train, y_train, color = 'green')\n",
    "plt.scatter(X_test, y_test, color = 'orange')\n",
    "plt.plot(X, model.predict(X), color = 'purple')\n",
    "plt.scatter(X_train, model.predict(X_train), color = 'blue')\n",
    "plt.scatter(X_test, model.predict(X_test), color = 'red')\n",
    "plt.ylabel('Altura')\n",
    "plt.xlabel('Edad')"
   ]
  },
  {
   "cell_type": "code",
   "execution_count": 37,
   "metadata": {},
   "outputs": [
    {
     "data": {
      "text/html": [
       "<div>\n",
       "<style scoped>\n",
       "    .dataframe tbody tr th:only-of-type {\n",
       "        vertical-align: middle;\n",
       "    }\n",
       "\n",
       "    .dataframe tbody tr th {\n",
       "        vertical-align: top;\n",
       "    }\n",
       "\n",
       "    .dataframe thead th {\n",
       "        text-align: right;\n",
       "    }\n",
       "</style>\n",
       "<table border=\"1\" class=\"dataframe\">\n",
       "  <thead>\n",
       "    <tr style=\"text-align: right;\">\n",
       "      <th></th>\n",
       "      <th>Edad</th>\n",
       "    </tr>\n",
       "  </thead>\n",
       "  <tbody>\n",
       "    <tr>\n",
       "      <th>0</th>\n",
       "      <td>47</td>\n",
       "    </tr>\n",
       "    <tr>\n",
       "      <th>1</th>\n",
       "      <td>31</td>\n",
       "    </tr>\n",
       "    <tr>\n",
       "      <th>2</th>\n",
       "      <td>39</td>\n",
       "    </tr>\n",
       "    <tr>\n",
       "      <th>3</th>\n",
       "      <td>29</td>\n",
       "    </tr>\n",
       "    <tr>\n",
       "      <th>4</th>\n",
       "      <td>47</td>\n",
       "    </tr>\n",
       "    <tr>\n",
       "      <th>5</th>\n",
       "      <td>24</td>\n",
       "    </tr>\n",
       "    <tr>\n",
       "      <th>6</th>\n",
       "      <td>34</td>\n",
       "    </tr>\n",
       "    <tr>\n",
       "      <th>7</th>\n",
       "      <td>36</td>\n",
       "    </tr>\n",
       "    <tr>\n",
       "      <th>8</th>\n",
       "      <td>46</td>\n",
       "    </tr>\n",
       "    <tr>\n",
       "      <th>9</th>\n",
       "      <td>29</td>\n",
       "    </tr>\n",
       "    <tr>\n",
       "      <th>10</th>\n",
       "      <td>40</td>\n",
       "    </tr>\n",
       "    <tr>\n",
       "      <th>11</th>\n",
       "      <td>47</td>\n",
       "    </tr>\n",
       "    <tr>\n",
       "      <th>12</th>\n",
       "      <td>38</td>\n",
       "    </tr>\n",
       "    <tr>\n",
       "      <th>13</th>\n",
       "      <td>51</td>\n",
       "    </tr>\n",
       "  </tbody>\n",
       "</table>\n",
       "</div>"
      ],
      "text/plain": [
       "    Edad\n",
       "0     47\n",
       "1     31\n",
       "2     39\n",
       "3     29\n",
       "4     47\n",
       "5     24\n",
       "6     34\n",
       "7     36\n",
       "8     46\n",
       "9     29\n",
       "10    40\n",
       "11    47\n",
       "12    38\n",
       "13    51"
      ]
     },
     "execution_count": 37,
     "metadata": {},
     "output_type": "execute_result"
    }
   ],
   "source": [
    "X"
   ]
  },
  {
   "cell_type": "code",
   "execution_count": 38,
   "metadata": {},
   "outputs": [
    {
     "data": {
      "text/plain": [
       "numpy.ndarray"
      ]
     },
     "execution_count": 38,
     "metadata": {},
     "output_type": "execute_result"
    }
   ],
   "source": [
    "type(model.predict(X))"
   ]
  },
  {
   "cell_type": "code",
   "execution_count": 39,
   "metadata": {},
   "outputs": [
    {
     "data": {
      "text/plain": [
       "array([1.68692227, 1.6808347 , 1.68387848, 1.68007375, 1.68692227,\n",
       "       1.67817139, 1.68197612, 1.68273706, 1.68654179, 1.68007375,\n",
       "       1.68425896, 1.68692227, 1.68349801, 1.68844416])"
      ]
     },
     "execution_count": 39,
     "metadata": {},
     "output_type": "execute_result"
    }
   ],
   "source": [
    "model.predict(X)"
   ]
  },
  {
   "cell_type": "code",
   "execution_count": 19,
   "metadata": {},
   "outputs": [
    {
     "data": {
      "text/plain": [
       "(14, 1)"
      ]
     },
     "execution_count": 19,
     "metadata": {},
     "output_type": "execute_result"
    }
   ],
   "source": []
  },
  {
   "cell_type": "code",
   "execution_count": 40,
   "metadata": {},
   "outputs": [
    {
     "data": {
      "text/plain": [
       "[1.6869222664481387,\n",
       " 1.6808346991336924,\n",
       " 1.6838784827909155,\n",
       " 1.6800737532193866,\n",
       " 1.6869222664481387,\n",
       " 1.6781713884336222,\n",
       " 1.6819761180051511,\n",
       " 1.6827370639194568,\n",
       " 1.6865417934909857,\n",
       " 1.6800737532193866,\n",
       " 1.6842589557480685,\n",
       " 1.6869222664481387,\n",
       " 1.6834980098337626,\n",
       " 1.6884441582767502]"
      ]
     },
     "execution_count": 40,
     "metadata": {},
     "output_type": "execute_result"
    }
   ],
   "source": [
    "model.predict(X).tolist()"
   ]
  },
  {
   "cell_type": "code",
   "execution_count": 42,
   "metadata": {},
   "outputs": [
    {
     "data": {
      "text/plain": [
       "[1.6869222664481387,\n",
       " 1.6808346991336924,\n",
       " 1.6838784827909155,\n",
       " 1.6800737532193866,\n",
       " 1.6869222664481387,\n",
       " 1.6781713884336222,\n",
       " 1.6819761180051511,\n",
       " 1.6827370639194568,\n",
       " 1.6865417934909857,\n",
       " 1.6800737532193866,\n",
       " 1.6842589557480685,\n",
       " 1.6869222664481387,\n",
       " 1.6834980098337626,\n",
       " 1.6884441582767502]"
      ]
     },
     "execution_count": 42,
     "metadata": {},
     "output_type": "execute_result"
    }
   ],
   "source": [
    "lista_tot = []\n",
    "for i in model.predict(X).tolist():\n",
    "    lista_tot.append(i)\n",
    "lista_tot\n"
   ]
  },
  {
   "cell_type": "code",
   "execution_count": 43,
   "metadata": {},
   "outputs": [
    {
     "data": {
      "text/html": [
       "<div>\n",
       "<style scoped>\n",
       "    .dataframe tbody tr th:only-of-type {\n",
       "        vertical-align: middle;\n",
       "    }\n",
       "\n",
       "    .dataframe tbody tr th {\n",
       "        vertical-align: top;\n",
       "    }\n",
       "\n",
       "    .dataframe thead th {\n",
       "        text-align: right;\n",
       "    }\n",
       "</style>\n",
       "<table border=\"1\" class=\"dataframe\">\n",
       "  <thead>\n",
       "    <tr style=\"text-align: right;\">\n",
       "      <th></th>\n",
       "      <th>Nombre</th>\n",
       "      <th>Edad</th>\n",
       "      <th>Altura</th>\n",
       "      <th>predicciones</th>\n",
       "      <th>residuos</th>\n",
       "    </tr>\n",
       "  </thead>\n",
       "  <tbody>\n",
       "    <tr>\n",
       "      <th>0</th>\n",
       "      <td>Pedro</td>\n",
       "      <td>47</td>\n",
       "      <td>1.80</td>\n",
       "      <td>1.686922</td>\n",
       "      <td>0.113078</td>\n",
       "    </tr>\n",
       "    <tr>\n",
       "      <th>1</th>\n",
       "      <td>Tomás</td>\n",
       "      <td>31</td>\n",
       "      <td>1.80</td>\n",
       "      <td>1.680835</td>\n",
       "      <td>0.119165</td>\n",
       "    </tr>\n",
       "    <tr>\n",
       "      <th>2</th>\n",
       "      <td>Ana</td>\n",
       "      <td>39</td>\n",
       "      <td>1.65</td>\n",
       "      <td>1.683878</td>\n",
       "      <td>-0.033878</td>\n",
       "    </tr>\n",
       "    <tr>\n",
       "      <th>3</th>\n",
       "      <td>Natalio</td>\n",
       "      <td>29</td>\n",
       "      <td>1.73</td>\n",
       "      <td>1.680074</td>\n",
       "      <td>0.049926</td>\n",
       "    </tr>\n",
       "    <tr>\n",
       "      <th>4</th>\n",
       "      <td>Monica</td>\n",
       "      <td>47</td>\n",
       "      <td>1.73</td>\n",
       "      <td>1.686922</td>\n",
       "      <td>0.043078</td>\n",
       "    </tr>\n",
       "    <tr>\n",
       "      <th>5</th>\n",
       "      <td>Jose</td>\n",
       "      <td>24</td>\n",
       "      <td>1.75</td>\n",
       "      <td>1.678171</td>\n",
       "      <td>0.071829</td>\n",
       "    </tr>\n",
       "    <tr>\n",
       "      <th>6</th>\n",
       "      <td>Carolina</td>\n",
       "      <td>34</td>\n",
       "      <td>1.64</td>\n",
       "      <td>1.681976</td>\n",
       "      <td>-0.041976</td>\n",
       "    </tr>\n",
       "    <tr>\n",
       "      <th>7</th>\n",
       "      <td>Alberto</td>\n",
       "      <td>36</td>\n",
       "      <td>1.60</td>\n",
       "      <td>1.682737</td>\n",
       "      <td>-0.082737</td>\n",
       "    </tr>\n",
       "    <tr>\n",
       "      <th>8</th>\n",
       "      <td>Cristina</td>\n",
       "      <td>46</td>\n",
       "      <td>1.70</td>\n",
       "      <td>1.686542</td>\n",
       "      <td>0.013458</td>\n",
       "    </tr>\n",
       "    <tr>\n",
       "      <th>9</th>\n",
       "      <td>Alba</td>\n",
       "      <td>29</td>\n",
       "      <td>1.68</td>\n",
       "      <td>1.680074</td>\n",
       "      <td>-0.000074</td>\n",
       "    </tr>\n",
       "    <tr>\n",
       "      <th>10</th>\n",
       "      <td>Laura</td>\n",
       "      <td>40</td>\n",
       "      <td>1.60</td>\n",
       "      <td>1.684259</td>\n",
       "      <td>-0.084259</td>\n",
       "    </tr>\n",
       "    <tr>\n",
       "      <th>11</th>\n",
       "      <td>Luis</td>\n",
       "      <td>47</td>\n",
       "      <td>1.69</td>\n",
       "      <td>1.686922</td>\n",
       "      <td>0.003078</td>\n",
       "    </tr>\n",
       "    <tr>\n",
       "      <th>12</th>\n",
       "      <td>Jaime</td>\n",
       "      <td>38</td>\n",
       "      <td>1.60</td>\n",
       "      <td>1.683498</td>\n",
       "      <td>-0.083498</td>\n",
       "    </tr>\n",
       "    <tr>\n",
       "      <th>13</th>\n",
       "      <td>Fernando</td>\n",
       "      <td>51</td>\n",
       "      <td>1.75</td>\n",
       "      <td>1.688444</td>\n",
       "      <td>0.061556</td>\n",
       "    </tr>\n",
       "  </tbody>\n",
       "</table>\n",
       "</div>"
      ],
      "text/plain": [
       "      Nombre  Edad  Altura  predicciones  residuos\n",
       "0      Pedro    47    1.80      1.686922  0.113078\n",
       "1      Tomás    31    1.80      1.680835  0.119165\n",
       "2        Ana    39    1.65      1.683878 -0.033878\n",
       "3    Natalio    29    1.73      1.680074  0.049926\n",
       "4     Monica    47    1.73      1.686922  0.043078\n",
       "5       Jose    24    1.75      1.678171  0.071829\n",
       "6   Carolina    34    1.64      1.681976 -0.041976\n",
       "7    Alberto    36    1.60      1.682737 -0.082737\n",
       "8   Cristina    46    1.70      1.686542  0.013458\n",
       "9       Alba    29    1.68      1.680074 -0.000074\n",
       "10     Laura    40    1.60      1.684259 -0.084259\n",
       "11      Luis    47    1.69      1.686922  0.003078\n",
       "12     Jaime    38    1.60      1.683498 -0.083498\n",
       "13  Fernando    51    1.75      1.688444  0.061556"
      ]
     },
     "execution_count": 43,
     "metadata": {},
     "output_type": "execute_result"
    }
   ],
   "source": [
    "df['predicciones'] = lista_tot\n",
    "df['residuos'] = df['Altura'] - df['predicciones']\n",
    "df\n"
   ]
  },
  {
   "cell_type": "code",
   "execution_count": 44,
   "metadata": {},
   "outputs": [
    {
     "name": "stdout",
     "output_type": "stream",
     "text": [
      "MSE: 0.011319620133994157\n",
      "RMSE: 0.1063937034508817\n"
     ]
    }
   ],
   "source": [
    "print('MSE:', mean_squared_error(y_test, model.predict(X_test)))\n",
    "print('RMSE:', np.sqrt(mean_squared_error(y_test, model.predict(X_test))))"
   ]
  },
  {
   "cell_type": "code",
   "execution_count": 45,
   "metadata": {},
   "outputs": [],
   "source": [
    "#df_corr\n",
    "df_corr = df[['Edad', 'Altura']].corr()"
   ]
  },
  {
   "cell_type": "code",
   "execution_count": 46,
   "metadata": {},
   "outputs": [
    {
     "data": {
      "text/plain": [
       "<Axes: >"
      ]
     },
     "execution_count": 46,
     "metadata": {},
     "output_type": "execute_result"
    },
    {
     "data": {
      "image/png": "[encoded data removed]",
      "text/plain": [
       "<Figure size 640x480 with 2 Axes>"
      ]
     },
     "metadata": {},
     "output_type": "display_data"
    }
   ],
   "source": [
    "# heatmap\n",
    "sns.heatmap(df_corr, annot=True)"
   ]
  }
 ],
 "metadata": {
  "kernelspec": {
   "display_name": "Python 3 (ipykernel)",
   "language": "python",
   "name": "python3"
  },
  "language_info": {
   "codemirror_mode": {
    "name": "ipython",
    "version": 3
   },
   "file_extension": ".py",
   "mimetype": "text/x-python",
   "name": "python",
   "nbconvert_exporter": "python",
   "pygments_lexer": "ipython3",
   "version": "3.11.3"
  }
 },
 "nbformat": 4,
 "nbformat_minor": 4
}
